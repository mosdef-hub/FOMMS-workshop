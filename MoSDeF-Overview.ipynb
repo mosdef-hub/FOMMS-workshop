{
 "cells": [
  {
   "cell_type": "markdown",
   "id": "834b2f2f",
   "metadata": {},
   "source": [
    "# MoSDeF: A Molecular Simulation and Design Framework\n",
    "\n",
    "The Molecular Simulation and Design Framework (MoSDeF) is a collection of open-source tools ([hosted on Github](https://github.com/mosdef-hub)) aimed at facilitating the construction and simulation of complex molecular systems - with a particular focus on the automated screening of large structural parameter spaces. All tools are written as Python packages and feature a Python-based API.\n",
    "\n",
    "The MoSDeF software suite consist of three core libraries, namely [mBuild](https://github.com/mosdef-hub/mbuild.git), [Foyer](https://github.com/mosdef-hub/foyer.git), and [GMSO](https://github.com/mosdef-hub/gmso.git). Each library dedicates to handle a certain step of the chemical system initialization process, as summarized in the figure below.\n",
    "\n",
    "<p align=\"center\">\n",
    "  <img src=\"graphics/mosdef_graphic.png\" alt=\"MoSDeF Ecosystem\" width=\"500\" height=\"500\"/>\n",
    "</p>\n"
   ]
  },
  {
   "cell_type": "markdown",
   "id": "4465ccde",
   "metadata": {},
   "source": [
    "### Primer on using Jupyter notebooks\n",
    "\n",
    "[Jupyter notebooks](https://jupyter-notebook.readthedocs.io/en/stable/) provide an interactive environment for \"developing, documenting, and executing code\". Several languages are supported; however here we will be using Python. \n",
    "\n",
    "Jupyter notebooks feature two primary types of cells:\n",
    "1. Markdown cells, like this cell, which contain explanatory text\n",
    "2. Code cells, that can be executed by either clicking on the \"run cell\" icon or by hitting SHIFT + ENTER.\n",
    "\n",
    "Cells do not have to be executed in order (however the cells in this tutorial are designed to be executed sequentially), and the order in which cells have been executed is recorded by the bracketed number to the left of the code cell (e.g. [ 1 ]). When a cell is executed you will first see an asterisk (i.e. [ * ]) which means that the cell is still running. When the asterisk is replaced by a number this means the execution has completed."
   ]
  },
  {
   "cell_type": "markdown",
   "id": "4620b511",
   "metadata": {},
   "source": [
    "### [mBuild](https://github.com/mosdef-hub/mbuild.git)\n",
    "\n",
    "`mbuild` is a library with functinoality necessary to construct chemical systems, utilizing a hierarchical, component-based approach. The library can be used to create anything between a particle/molecule and a complex systems with multiple components. Moreover, mBuild also supports creation of systems from pre-defined files (`xyz`, `pdb`, `mol2`, `top`, `gro`, etc.,) and [SMILES string](https://www.daylight.com/dayhtml/doc/theory/theory.smiles.html), allow easy-setup for multiple types of systems.\n",
    "\n",
    "<p align=\"center\">\n",
    "  <img src=\"graphics/hierarchical_design_image.png\" alt=\"MoSDeF Ecosystem\" width=\"500\" height=\"500\"/>\n",
    "</p>\n",
    "\n",
    "`mBuild` also supports a plug-in systems, where user can create templates for different classes of systems. These plug-ins can interact with the main `mBuild` library under `mbuild.recipe`. These template (or `recipe`) can be hosted independently and shared to audience of interest. A few recipes created by `mBuild` users include:\n",
    "* [Graphene slit pores](https://github.com/rmatsum836/Pore-Builder)\n",
    "* [Nanodroplets on graphene](https://github.com/ftiet/droplet-builder)\n",
    "* [Coarse-grained DNA](https://github.com/zijiewu3/mbuild_ONA)\n",
    "* [Lipid bilayers](https://github.com/uppittu11/mbuild_bilayer)"
   ]
  },
  {
   "cell_type": "markdown",
   "id": "ed9d41bb",
   "metadata": {},
   "source": [
    "### [Foyer](https://github.com/mosdef-hub/foyer.git)\n",
    "\n",
    "`Foyer` is a package dedicate to perform atomtyping of chemical systems - assigning chemical potential parameters to atoms according to their contexts in the systems. This can be achieved through the process of graph matching. The atomtype's rules can be specified through [SMARTS](https://www.daylight.com/dayhtml/doc/theory/theory.smarts.html) string, which can be compared with the bond network of the system of interest. By automating the process of atomtyping (or graph matching), `Foyer` removed unncessary human interations, which may lead to unwanted, irreproducible errors. \n",
    "<img src=\"graphics/ch3-toluene.png\" alt=\"Drawing\" style=\"width: 850px\"/>"
   ]
  },
  {
   "cell_type": "markdown",
   "id": "77efbe12",
   "metadata": {},
   "source": [
    "### [GMSO](https://github.com/mosdef-hub/gmso.git)\n",
    "\n",
    "Brief overview - This library is still undergoing major construction, but our aim is trying to have a replacement for ParmEd. This library is intended to be a general object - with the ability to support a wide range of chemical systems, both in term of their design and the parameters (potential form, units) that get assigned to each atom/bead as well as their connections. "
   ]
  },
  {
   "cell_type": "markdown",
   "id": "11be3073",
   "metadata": {},
   "source": [
    "# Goal of this Workshop\n",
    "\n",
    "This workshop might not have enough time for us to go through all the features offered by the MoSDeF software suites. For the next hour, we will try give a brief introduction about some basic feature, and their underlying logic of each package. With that knowledge, we will all try to construct a simple system, perform atomtyping and then run a short simulations."
   ]
  }
 ],
 "metadata": {
  "kernelspec": {
   "display_name": "Python 3 (ipykernel)",
   "language": "python",
   "name": "python3"
  },
  "language_info": {
   "codemirror_mode": {
    "name": "ipython",
    "version": 3
   },
   "file_extension": ".py",
   "mimetype": "text/x-python",
   "name": "python",
   "nbconvert_exporter": "python",
   "pygments_lexer": "ipython3",
   "version": "3.9.9"
  }
 },
 "nbformat": 4,
 "nbformat_minor": 5
}
