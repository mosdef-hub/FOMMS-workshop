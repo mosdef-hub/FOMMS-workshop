{
 "cells": [
  {
   "cell_type": "markdown",
   "id": "15a8f6f3",
   "metadata": {},
   "source": [
    "# GMSO Basics\n",
    "\n",
    "### _Data structures for the storage of chemical systems and output of syntactically correct datafiles._ \n",
    "\n",
    "\n",
    "\n",
    "<p align=\"center\">\n",
    "    <img src=\"../graphics/mosdef_graphic_gmso.png\", alt=\"GMSO within the MoSDeF Ecosystem\" width=\"500\" height=\"500\"/>\n",
    "</p>\n",
    "\n",
    "This tutorials is for people who would like to utilize GMSO to write out basic simulation structure files.\n",
    "\n",
    "The final piece of the MoSDeF software stack is `GMSO`, which stands for the General Molecular Simulation Object. \n",
    "* The library provides data structures for **storage of chemical systems** \n",
    "    * initialized by mBuild and atom typed with Foyer. \n",
    "    * converted from other file or data structures\n",
    "* The package is designed to cover short-comings observed in other similar chemical structure data objects\n",
    "     * general support for exotic potentials\n",
    "* Functionalities to support [TRUE](https://www.tandfonline.com/doi/full/10.1080/00268976.2020.1742938) (Transparent, Reproducible, Usable-by-others, and Extensible) simulations research. \n",
    "\n",
    "\n",
    "**_Note_**: At the moment, GMSO is still under development, but we have defined a set of goals and some target features that should be available when the package matures.\n",
    "\n",
    "_______"
   ]
  },
  {
   "cell_type": "markdown",
   "id": "5a2a4444",
   "metadata": {},
   "source": [
    "## GMSO Features\n",
    "The following features are accessible:\n",
    "1. __Supporting a variety of models__ in the molecular simulation/computational\n",
    "  chemistry community:</br>\n",
    "  No assumptions are made about an interaction site\n",
    "  representing an atom or bead, instead these can be atomistic,\n",
    "  united-atom/coarse-grained, polarizable, and other models! Units are \n",
    "  explicitly defined and convertible using the `Unyt` package.</br></br>\n",
    "\n",
    "1. __Greater flexibility for exotic potentials__: \n",
    "</br>The [AtomType](https://github.com/mosdef-hub/gmso/blob/main/gmso/core/atom_type.py) (and analogue\n",
    "  [classes for intramolecular interactions](https://github.com/mosdef-hub/gmso/tree/main/gmso/core)) uses [`SymPy`](https://www.sympy.org) to store any\n",
    "  potential that can be represented by a mathematical expression. </br></br>\n",
    "\n",
    "1. __Adaptable for new engines__: \n",
    "</br>By not being designed for\n",
    "  compatibility with any particular molecular simulation engine or ecosystem,\n",
    "  it becomes tractable for developers in the community to add glue for\n",
    "  engines that are not currently supported. </br></br>\n",
    "\n",
    "1. __Compatibility with existing community tools__: \n",
    "</bf>No single molecular simulation\n",
    "  tool will ever be a silver bullet, so ``GMSO`` includes functions to convert\n",
    "  between various file formats and libraries. These can be used in their own right to convert between objects in-memory and also to support conversion to file formats not natively supported at any given time. Currently supported conversions include:\n",
    "    * [`ParmEd`](./gmso/external/convert_parmed.py)\n",
    "    * [`OpenMM`](./gmso/external/convert_openmm.py)\n",
    "    * [`mBuild`](./gmso/external/convert_mbuild.py)\n",
    "    * more in the future! </br></br>\n",
    "\n",
    "1. __Native support for reading and writing many common file formats__: We natively have support for:\n",
    "    * [`XYZ`](./gmso/formats/xyz.py)\n",
    "    * [`GRO`](./gmso/formats/gro.py)\n",
    "    * [`TOP`](gmso/formats/top.py)\n",
    "    * [`LAMMPSDATA`](gmso/formats/lammpsdata.py)\n",
    "    * indirect support, through other libraries, for many more!\n",
    "    \n"
   ]
  },
  {
   "cell_type": "markdown",
   "id": "326b6dba",
   "metadata": {},
   "source": []
  },
  {
   "cell_type": "markdown",
   "id": "6dc8165d",
   "metadata": {},
   "source": [
    "## GMSO ForceField XML\n",
    "____\n",
    "A way to compare the utility of using `GMSO` over other structure data classes is to look at the information stored in the XML files of GMSO compared to something like the Foyer XML.\n",
    "\n",
    "It is readily transparent what defines the outcome of using this forcefield. Nothing is left to assumption;\n",
    "* The units for all parameters, \n",
    "* The exact mathematical expression for the potentials\n",
    "* The names used for the expression, valid parameters, and atomtypes that make up the connections \n",
    "\n",
    "are machine and human readable. This allows users to store any nature of mathematical description for a chemical topology, as well as easily defined unit and equation equivalencies can be used in conversions for modified styles **across engines**. \n",
    "\n",
    "### **The utility in GMSO is this _explicit_ and _generalized_ storage that provides handling to a broad scope of parameterized chemical descriptions.**\n",
    "\n",
    "```xml\n",
    "<?xml version='1.0' encoding='UTF-8'?>\n",
    "<ForceField name=\"TIP3P\" version=\"0.0.1\"> \n",
    "  <!-- Defines units as metadata-->\n",
    "  <FFMetaData>\n",
    "    <Units energy=\"kJ/mol\" mass=\"amu\" charge=\"elementary_charge\" distance=\"nm\"/>\n",
    "  </FFMetaData>\n",
    "  <!-- Potentials can be grouped together by expression and can have optional names -->\n",
    "  <AtomTypes expression=\"4*epsilon * ((sigma/r)**12 - (sigma/r)**6)\">\n",
    "     <!--   Units for parameters are defined in this tag    -->\n",
    "    <ParametersUnitDef parameter=\"epsilon\" unit=\"kJ/mol\"/>\n",
    "    <ParametersUnitDef parameter=\"sigma\" unit=\"nm\"/>\n",
    "    <AtomType name=\"opls_111\" element=\"O\" charge=\"-0.834\" mass=\"16\" definition=\"O\" description=\"water O\">\n",
    "      <Parameters>\n",
    "        <Parameter name=\"epsilon\" value=\"0.636386\"/>\n",
    "        <Parameter name=\"sigma\" value=\"0.315061\"/>\n",
    "      </Parameters>\n",
    "    </AtomType>\n",
    "    <AtomType name=\"opls_112\" element=\"H\" charge=\"0.417\" mass=\"1.011\" definition=\"H\">\n",
    "      <Parameters>\n",
    "        <Parameter name=\"epsilon\" value=\"0.0\"/>\n",
    "        <Parameter name=\"sigma\" value=\"1.0\"/>\n",
    "      </Parameters>\n",
    "    </AtomType>\n",
    "  </AtomTypes>\n",
    "  <BondTypes expression=\"0.5 * k * (r-r_eq)**2\">\n",
    "    <ParametersUnitDef parameter=\"k\" unit=\"kJ/mol/nm**2\"/>\n",
    "    <ParametersUnitDef parameter=\"r_eq\" unit=\"nm\"/>\n",
    "    <BondType name=\"BondType-Harmonic-1\" type1=\"opls_111\" type2=\"opls_112\">\n",
    "      <Parameters>\n",
    "        <Parameter name=\"k\" value=\"502416.0\"/>\n",
    "        <Parameter name=\"r_eq\" value=\"0.09572\"/>\n",
    "      </Parameters>\n",
    "    </BondType>\n",
    "  </BondTypes>\n",
    "  <AngleTypes expression=\"0.5 * k * (theta - theta_eq)**2\">\n",
    "    <ParametersUnitDef parameter=\"k\" unit=\"kJ/(mol*radian**2)\"/>\n",
    "    <ParametersUnitDef parameter=\"theta_eq\" unit=\"radian\"/>\n",
    "    <AngleType name=\"AngleType-Harmonic-1\" type1=\"opls_112\" type2=\"opls_111\" type3=\"opls_112\">\n",
    "      <Parameters>\n",
    "        <Parameter name=\"k\" value=\"682.02\"/>\n",
    "        <Parameter name=\"theta_eq\" value=\"1.824218134\"/>\n",
    "      </Parameters>\n",
    "    </AngleType>\n",
    "  </AngleTypes>\n",
    "</ForceField>\n",
    "```\n"
   ]
  },
  {
   "cell_type": "markdown",
   "id": "2ec7138c",
   "metadata": {},
   "source": [
    "## GMSO `Topology` Structure\n",
    "_____\n",
    "`GMSO`'s goal is to provide a flexible backend framework to store topological information of a chemical system in a reproducible fashion. This is where the parameterized information from the ForceField gets codified to the chemical system of interest.\n",
    "[**Topology**](https://github.com/mosdef-hub/gmso/blob/main/gmso/core/topology.py) in this case is defined as the information needed to initialize a molecular simulation.\n",
    "Depending on the type of simulation performed, this ranges from:\n",
    "* particle positions\n",
    "* particle connectivity\n",
    "* box information\n",
    "* forcefield data\n",
    "    - potenial energy functional forms\n",
    "    - potential energy parameters\n",
    "* other optional data\n",
    "    - particle mass\n",
    "    - elemental data\n",
    "    - etc."
   ]
  },
  {
   "cell_type": "markdown",
   "id": "749bb4b9",
   "metadata": {},
   "source": [
    "`gmso.core.Topology` is the central data class that stores this information. It's hierachy can be visualized below.\n",
    "<p align=\"center\">\n",
    "    <img src=\"../graphics/GMSO-structure.png?raw=true\", alt=\"GMSO within the MoSDeF Ecosystem\" width=\"1000\" height=\"1000\"/>\n",
    "</p>"
   ]
  },
  {
   "cell_type": "markdown",
   "id": "677d3c0a",
   "metadata": {},
   "source": [
    "## Interconverting Topology using: gmso.formats, gmso.external and gmso.lib\n",
    "----\n",
    "Modules `gmso.formats` and `gmso.external` define file writers to different simulation engines and converters to/from external packages respectively.\n",
    "\n",
    "Module structure for `gmso.formats`:\n",
    "\n",
    "```\n",
    "gmso/formats/\n",
    "├── gro.py\n",
    "├── gsd.py\n",
    "├── lammpsdata.py\n",
    "├── mcf.py\n",
    "├── top.py\n",
    "└── xyz.py\n",
    "```\n",
    "\n",
    "Currently, we support the following file readers/writers:\n",
    "\n",
    "|Extension | Engine | Typed or Un-typed? | Internal reader | Internal writer | \n",
    "|:---:|:------:|:------------------:|:---------------:|:---------------:|\n",
    "|.mol2| many       | Un-typed | Available  |-| \n",
    "|.xyz | many       | Un-typed | Available | Available |\n",
    "|.gro | GROMACS    | Un-typed | Available | Available |\n",
    "|.top | GROMACS    | Typed    | - | Available |\n",
    "|.gsd | HOOMD-Blue | Typed | - | Available |\n",
    "|.mcf | Cassandra  | Typed | - | Available |\n",
    "|.data | LAMMPS | Typed | Available |Available | \n",
    "|.json| GMSO | Typed | Available | Available |\n",
    "\n",
    "\n",
    "The module structure for `gmso.external` is as follows:\n",
    "\n",
    "```\n",
    "gmso/external/\n",
    "├── convert_mbuild.py\n",
    "├── convert_openmm.py\n",
    "├── convert_parmed.py\n",
    "├── convert_networkx.py\n",
    "├── convert_foyer_xml.py\n",
    "```\n",
    "\n",
    "We support the conversion to/from a [parmed](https://github.com/ParmEd/ParmEd) `Structure`, [mbuild](https://mbuild.mosdef.org) `Compound`. Currently, we only support converting a gmso `Topology` to an [OpenMM](http://openmm.org/) `Topology`."
   ]
  },
  {
   "cell_type": "code",
   "execution_count": null,
   "id": "738f6911",
   "metadata": {},
   "outputs": [],
   "source": [
    "# Convert a topology to a Parmed Structure\n",
    "from gmso.external.convert_parmed import to_parmed\n",
    "from gmso import Topology\n",
    "import parmed as pmd\n",
    "\n",
    "topology = Topology.load(\"gmso_files/350-waters.gro\")\n",
    "\n",
    "structure = to_parmed(topology, refer_type=False)\n",
    "assert isinstance(structure, pmd.Structure)\n",
    "assert len(list(structure.topology.atoms())) == topology.n_sites\n",
    "print(structure)"
   ]
  },
  {
   "cell_type": "markdown",
   "id": "887edbf2",
   "metadata": {},
   "source": [
    "## Forcefield Loading\n",
    "_____\n",
    "The `ForceField` class in `GMSO` is stored in gmso/core/forcefield.py. This class is an extension of the Foyer XML format and contains information parameters and expression relevant to the topology. A Forcefield XML file can be converted from the origin Foyer/OpenMM format or generated in the more flexible GMSO style."
   ]
  },
  {
   "cell_type": "code",
   "execution_count": null,
   "id": "eb8d788d",
   "metadata": {},
   "outputs": [],
   "source": [
    "# converting from a Foyer XML\n",
    "import os\n",
    "from foyer.forcefields.forcefields import get_ff_path\n",
    "from gmso.external.convert_foyer_xml import from_foyer_xml\n",
    "from gmso  import ForceField\n",
    "\n",
    "fp = os.path.join(get_ff_path()[0], \"xml/oplsaa.xml\") #path to prepackaged ff\n",
    "from_foyer_xml(fp, \"gmso_files/oplsaa_gmso.xml\" , overwrite=True)\n",
    "gmso_oplsaa = ForceField(\"gmso_files/oplsaa_gmso.xml\" , strict=False)\n",
    "list(gmso_oplsaa.__dict__.keys()) #print out attributes"
   ]
  },
  {
   "cell_type": "markdown",
   "id": "e70fcf0d",
   "metadata": {},
   "source": [
    "The **forcefield-utilities** package, available on **Conda Forge**, has been developed to improve loading for Foyer forcefields to GMSO. This process can be notably slow for larger forcefields, and the forcefield-utilities package was developed separately to load many different styles of XML quickly. The following example shows how to use this package."
   ]
  },
  {
   "cell_type": "code",
   "execution_count": null,
   "id": "b3af330c",
   "metadata": {},
   "outputs": [],
   "source": [
    "# converting using Forcefield utilities\n",
    "try:\n",
    "    import forcefield_utilities as ffutils\n",
    "except:\n",
    "    raise(ImportError(\"\"\"The package forcefield-utilities is not installed. Please install via\\n \n",
    "    $ conda install forcefield-utilities\"\"\"))\n",
    "\n",
    "ffloader = ffutils.FoyerFFs() # instance to load forcefields\n",
    "oplsaa = ffloader.load(\"oplsaa\") #load from Foyer xmls or search locally path\n",
    "gmso_oplsaa = oplsaa.to_gmso_ff()\n",
    "print(\"The OPLSAA forcefield has {len(gmso_oplsaa.atom_types)} atom types.\")"
   ]
  },
  {
   "cell_type": "markdown",
   "id": "5299f363",
   "metadata": {},
   "source": [
    "Just like the `Foyer Forcefield` class, the `GMSO ForceField` class can be loaded from and saved to the XML file format for manual parsing and modifications, if need be. This lets users add parameters, validate metadata, and reload for continued use."
   ]
  },
  {
   "cell_type": "code",
   "execution_count": null,
   "id": "fcefdfd2",
   "metadata": {},
   "outputs": [],
   "source": [
    "# Loading a Native GMSO ForceField\n",
    "from gmso import ForceField \n",
    "from gmso.tests.utils import get_path # library of testable gmso xmls\n",
    "\n",
    "tip3p_ff = ForceField(get_path('tip3p.xml'))\n",
    "print(tip3p_ff.atom_types)"
   ]
  },
  {
   "cell_type": "code",
   "execution_count": null,
   "id": "58ad5d6e",
   "metadata": {},
   "outputs": [],
   "source": [
    "# Saving a Native GMSO ForceField\n",
    "# Create an additional atomtype\n",
    "from gmso import AtomType\n",
    "atype = AtomType(name=\"oplsaa_add\", expression=None)\n",
    "\n",
    "# Load and modify forcefield\n",
    "from gmso import ForceField \n",
    "from gmso.tests.utils import get_path\n",
    "tip3p_ff = ForceField(get_path('tip3p.xml'))\n",
    "tip3p_ff.atom_types[atype.name] = atype\n",
    "tip3p_ff.xml(\"gmso_files/tip3p_modified.xml\") \n"
   ]
  },
  {
   "cell_type": "markdown",
   "id": "a3b5229a",
   "metadata": {},
   "source": [
    "## Parameterization (work in progress)\n",
    "----\n",
    "Recent efforts have looked to use GMSO not only as a writer for parameterized structures, but also as a place to _parameterize topologies_. This can be done using the **`apply`** utility in`gmso.parameterization.parameterize.py`. For more complex methods to use this method, such as applying forcefields by molecule, see the **ExampleGMSOWorkflow.ipynb** notebook."
   ]
  },
  {
   "cell_type": "code",
   "execution_count": null,
   "id": "5ebb624d",
   "metadata": {},
   "outputs": [],
   "source": [
    "import warnings\n",
    "warnings.simplefilter(\"ignore\", UserWarning)\n",
    "\n",
    "import mbuild as mb #Build the mBuild compound\n",
    "ethane = mb.load(\"CC\", smiles=True) #create ethane\n",
    "ethane.name = \"ethane\"\n",
    "mb_compound = mb.fill_box(ethane, n_compounds = 5, density=0.6) # fill a small box\n",
    "\n",
    "import forcefield_utilities as ffutils #\n",
    "ffloader = ffutils.FoyerFFs() #load gmso forcefield\n",
    "ethane_ff = ffloader.load(\"gmso_files/alkanes.xml\").to_gmso_ff()\n",
    "\n",
    "from gmso.external import from_mbuild\n",
    "from gmso.parameterization import apply #main utility for applying a forcefield\n",
    "topology_gmso = from_mbuild(mb_compound) # Create GMSO topology\n",
    "topology_gmso.identify_connections() # Identify angles and dihedrals\n",
    "print(f\"The topology has {len(topology_gmso.dihedral_types)} parameterized dihedrals\")\n",
    "apply(topology_gmso, ethane_ff, identify_connected_components=True, match_ff_by=\"molecule\",\n",
    "                  use_molecule_info=False) # apply forcefield to relevant subtops\n",
    "print(f\"The topology has {len(topology_gmso.dihedral_types)} parameterized dihedrals\")\n",
    "help(apply)"
   ]
  },
  {
   "cell_type": "markdown",
   "id": "d1c02e18",
   "metadata": {},
   "source": [
    "## Visualizing Parameterized Topologies\n",
    "----\n",
    "Along with the ability to write out to human readable files to validate parameters, it can be useful to see a connected molecule representation of the topology with the applied parameters. This can be especially useful for understanding which parameters are missing. This uses **ipywidgets** and **matplotlib** to interactively select specific sites or connections."
   ]
  },
  {
   "cell_type": "code",
   "execution_count": null,
   "id": "e1d4f3b1",
   "metadata": {},
   "outputs": [],
   "source": [
    "from gmso import Topology\n",
    "from gmso.formats.networkx import interactive_networkx_atomtypes, interactive_networkx_bonds #or angles, or dihedrals\n",
    "\n",
    "topology = Topology.load(\"gmso_files/ethanes.json\")\n",
    "interactive_networkx_atomtypes(topology)"
   ]
  },
  {
   "cell_type": "code",
   "execution_count": null,
   "id": "a41910ad",
   "metadata": {},
   "outputs": [],
   "source": [
    "interactive_networkx_bonds(topology)"
   ]
  },
  {
   "cell_type": "markdown",
   "id": "f0b3213b",
   "metadata": {},
   "source": [
    "# GMSO Advanced Supplements\n",
    "This tutorial is for contributors to GMSO or those who want to customize GMSO functionality </br> </br>\n",
    "\n",
    "The following ideas let one understand the operation of GMSO, which uses pydantic `BaseModel` to leverage code reusibility. The lesson will help follow the nature of writing custom functions that use the GMSO `Topology` in order to probe applied potentials, understand unit handling, and write to custom file formats that may not be natively available."
   ]
  },
  {
   "cell_type": "markdown",
   "id": "75aaf3b4",
   "metadata": {},
   "source": [
    "## Module gmso.abc\n",
    "----------\n",
    "This module provides the abstract base classes for all other core data structures used in gmso. Our abstract base classes inherit from [pydantic](https://pydantic-docs.helpmanual.io/)'s `BaseModel` class which provides type hints as well as runtime data validation together with out-of-the-box serialization. The module structure is as follows:\n",
    "```\n",
    "gmso/abc \n",
    "├── gmso_base.py \n",
    "├── abstract_site.py \n",
    "├── abstract_potential.py \n",
    "├── abstract_connection.py \n",
    "```\n",
    "\n",
    "\n",
    "1. [`gmso_base.py`](https://github.com/mosdef-hub/gmso/blob/3ff3829cb4bc492b41e5e520d26d35c09c5338a4/gmso/abc/gmso_base.py): Defines the class `GMSOBase` i.e. The base class for all our other classes that tweaks pydantic's `BaseModel` class to provide an `id`-based hasing as well as injects numpydoc style docstrings from the fields of the class.\n",
    "---\n",
    "2. [`abstract_site.py`](https://github.com/mosdef-hub/gmso/blob/3ff3829cb4bc492b41e5e520d26d35c09c5338a4/gmso/abc/abstract_site.py): Defines the `Site` class which provides a basic topology site with following attributes: (a.) name (b.) position (c.) label\n",
    "---\n",
    "3. [`abstract_potential.py`](https://github.com/mosdef-hub/gmso/blob/3ff3829cb4bc492b41e5e520d26d35c09c5338a4/gmso/abc/abstract_potential.py): Defines the abstract `Potential` class which is the base class for our `ParametricPotentials` as well as `PotentialTemplates`.\n",
    "---\n",
    "4. [`abstract_connection.py`](https://github.com/mosdef-hub/gmso/blob/3ff3829cb4bc492b41e5e520d26d35c09c5338a4/gmso/abc/abstract_site.py): Defines the abstract `Connection` class which is the base class for our `Bond`, `Angle`, `Dihedral` and `Improper` classes."
   ]
  },
  {
   "cell_type": "markdown",
   "id": "5c184904",
   "metadata": {},
   "source": [
    "### Extensibility \n",
    "The implementation of abstract base classes allows for a consistent and systematic expansion of the library. The `gmso.abc` would allow new data classes to be implemented as needs arise with built-in common attributes/methods and type-check. \n",
    "\n",
    "### Example: Implementing a Bead\n",
    "\n",
    "The `Bead` class can now be implemented as a subclass of the abstract `Site` class. We can use the existing attributes from the super class like `name`, `position` etc... and define new attributes and methods for `Bead`. The goal is the consolidation of as many universal characteristics of a generic topology site into a base class (`Site`) and tweak its down-stream usage according to the needs of a particular site (like an `Atom` or a `Bead`). Usage of `Site` to create a `Bead` class is shown below:"
   ]
  },
  {
   "cell_type": "code",
   "execution_count": null,
   "id": "91a180a1",
   "metadata": {},
   "outputs": [],
   "source": [
    "import warnings\n",
    "warnings.simplefilter('ignore')\n",
    "import unyt as u\n",
    "from pydantic import Field, ValidationError\n",
    "\n",
    "from gmso.abc.abstract_site import Site\n",
    "\n",
    "\n",
    "class Bead(Site):\n",
    "    __base_doc__ = \"Basic Bead class inheriting from the Site Class\"\n",
    "    mass_: u.unyt_quantity = Field(\n",
    "        default=1.0*u.amu,\n",
    "        description='Mass of the bead'\n",
    "    )\n",
    "        \n",
    "    charge_: u.unyt_quantity = Field(\n",
    "        default=0.0*u.elementary_charge,\n",
    "        description='Charge of the bead'\n",
    "    )\n",
    "    \n",
    "    class Config:\n",
    "        fields = {\n",
    "            'mass_': 'mass',\n",
    "            'charge_': 'charge'\n",
    "        }\n",
    "        alias_to_fields = {\n",
    "            'mass': 'mass_',\n",
    "            'charge': 'charge_'\n",
    "        }\n",
    "    \n",
    "my_bead = Bead()\n",
    "my_bead.name  # When you inherit, the attribute(field) `name` is injected as the class name(Bead in this case)\n",
    "\n",
    "# We use pydantic for validation as well, for example if you assign a string to charge by accident :)\n",
    "try:\n",
    "    my_bead.charge = 'Some weird charge string'\n",
    "except ValidationError as e:\n",
    "    print(e)"
   ]
  },
  {
   "cell_type": "code",
   "execution_count": null,
   "id": "fd6f6b7c",
   "metadata": {},
   "outputs": [],
   "source": [
    "# Documentation is injected automatically as well\n",
    "%pdoc Bead"
   ]
  },
  {
   "cell_type": "markdown",
   "id": "2c8aa2be",
   "metadata": {},
   "source": [
    "## Core Classes\n",
    "----\n",
    "In `GMSO` we define the following core classes, which inherit from different abstract classes. All of our core classes make use of these [pydantic](https://pydantic-docs.helpmanual.io/) derived subclasses, such as `abstract_site`, `abstract_connection` or `abstract_potential`. The module `gmso.core` is structured and subclassed as follows:\n",
    "\n",
    "```\n",
    "gmso/core/                                       subclass    \n",
    "├── angle.py                 --->                gmso/abc/abstract_connection.Connection\n",
    "├── angle_type.py            --->                gmso/core/parametric_potential.ParametricPotential \n",
    "├── atom.py                  --->                gmso/abc/abstract_site.Site \n",
    "├── atom_type.py             --->                gmso/core/parametric_potential.ParametricPotential \n",
    "├── bond.py                  --->                gmso/abc/abstract_connection.Connection\n",
    "├── bond_type.py             --->                gmso/core/parametric_potential.ParametricPotential \n",
    "├── box.py                   --->                Python Object\n",
    "├── dihedral.py              --->                gmso/abc/abstract_connection.Connection\n",
    "├── dihedral_type.py         --->                gmso/core/parametric_potential.ParametricPotential \n",
    "├── element.py               --->                gmso/abc/gms_base.GMSOBase\n",
    "├── forcefield.py            --->                Python Object\n",
    "├── improper.py              --->                gmso/abc/abstract_connection.Connection\n",
    "├── improper_type.py         --->                gmso/core/parametric_potential.ParametricPotential \n",
    "├── parametric_potential.py  --->                gmso/abc/abstract_potential.AbstractPotential\n",
    "└── topology.py              --->                Python Object\n",
    "```\n",
    "\n",
    "##### This hierarchy allows common utilities to be subclassed and populated with default values, such as:\n",
    "1. The `ParametricPotential` class that stores `SymPy` expressions and parameters.\n",
    "2. The `Connection` class that stores sites that make up the connection and proper parametric connection type.\n",
    "3. The `Site` class which gives access to the position, mass, and element/name information important for defining the features of that position in space.\n",
    "4. Python objects that are at the bottom of the hierachy \n"
   ]
  },
  {
   "cell_type": "markdown",
   "id": "26646d72",
   "metadata": {},
   "source": [
    "### Creating core class instances\n",
    "#### _Sites_\n",
    "1. [`atom.py`](https://github.com/mosdef-hub/gmso/blob/3ff3829cb4bc492b41e5e520d26d35c09c5338a4/gmso/core/atom.py): Defines the class `gmso.core.atom.Atom` which inherits from `gmso.abc.abstract_site.Site` to define an `Atom`.\n",
    "\n",
    "You can use the `json` package to easily define the format of .json encoding and decoding, making it simple to modify the default [json writer](https://github.com/mosdef-hub/gmso/blob/main/gmso/formats/json.py) for additional topology information. This example shows creating atom sites and using a custom `UnytJsonEncoder` to write out this info to a readable format."
   ]
  },
  {
   "cell_type": "code",
   "execution_count": null,
   "id": "01c3fb13",
   "metadata": {},
   "outputs": [],
   "source": [
    "# Use json package to define class attributes to write object to json readable format\n",
    "import json\n",
    "import unyt as u\n",
    "class UnytJsonEncoder(json.JSONEncoder):\n",
    "    def default(self, obj):\n",
    "        if isinstance(obj, u.unyt_array):\n",
    "            return {\n",
    "                    'array': obj.ravel().tolist(),\n",
    "                    'unit': str(obj.units)    \n",
    "            }\n",
    "        \n",
    "        return json.JSONEncoder.default(self, obj)"
   ]
  },
  {
   "cell_type": "code",
   "execution_count": null,
   "id": "43eabc02",
   "metadata": {},
   "outputs": [],
   "source": [
    "from gmso.core.atom import Atom  #import the Atom class\n",
    "from pprint import pprint\n",
    "atom1 = Atom(name='atom1', charge=2.0*u.elementary_charge) #initialize an atom with charge and unyt units\n",
    "atom2 = Atom(name='atom2', charge=1.0*u.elementary_charge) #initialize an atom with charge and unyt units\n",
    "\n",
    "# Dumping the model as json is easy\n",
    "pprint(json.dumps(atom1.dict(by_alias=True, exclude_unset=True), cls=UnytJsonEncoder, indent=2))"
   ]
  },
  {
   "cell_type": "markdown",
   "id": "87a6c04d",
   "metadata": {},
   "source": [
    "#### _Connections_\n",
    "1. [`bond.py`](https://github.com/mosdef-hub/gmso/blob/3ff3829cb4bc492b41e5e520d26d35c09c5338a4/gmso/core/bond.py): Defines the class `gmso.core.bond.Bond` which inherits from `gmso.abc.abstract_connection.Connection` to define a 2-partner connection between `Atoms`.\n",
    "---\n",
    "2. [`angle.py`](https://github.com/mosdef-hub/gmso/blob/3ff3829cb4bc492b41e5e520d26d35c09c5338a4/gmso/core/angle.py): Defines the class `gmso.core.angle.Angle` which inherits from `gmso.abc.abstract_connection.Connection` to define a 3-partner connection between `Atoms`.\n",
    "---\n",
    "3. [`dihedral.py`](https://github.com/mosdef-hub/gmso/blob/3ff3829cb4bc492b41e5e520d26d35c09c5338a4/gmso/core/dihedral.py): Defines the class `gmso.core.dihedral.Dihedral` which inherits from `gmso.abc.abstract_connection.Connection` to define a 4-partner connection (dihedral, i-j-k-l order) between `Atoms`.\n",
    "---\n",
    "4. [`improper.py`](https://github.com/mosdef-hub/gmso/blob/3ff3829cb4bc492b41e5e520d26d35c09c5338a4/gmso/core/improper.py): Defines the class `gmso.core.improper.Improper` which inherits from `gmso.abc.abstract_connection.Connection` to define a 4-partner connection (improper, central atom first) between `Atoms`."
   ]
  },
  {
   "cell_type": "code",
   "execution_count": null,
   "id": "32a1077b",
   "metadata": {},
   "outputs": [],
   "source": [
    "from gmso import Bond #or Angle, Dihedral, Improper\n",
    "bond = Bond(connection_members=[atom1, atom2]) # will raise an error if you pass too many sites\n",
    "bond.connection_members"
   ]
  },
  {
   "cell_type": "markdown",
   "id": "ce453bf4",
   "metadata": {},
   "source": [
    "#### _Potentials_\n",
    "1. [`parametric_potential.py`](https://github.com/mosdef-hub/gmso/blob/3ff3829cb4bc492b41e5e520d26d35c09c5338a4/gmso/core/parametric_potential.py): Defines the class `gmso.core.parametric_potential.ParametricPotential` which inherits from `gmso.abc.abstract_potential.Potential` to define a `ParametricPotential` class which stores the functional form of a Potential as a `SymPy` expression and parameters of the potential expression as `unyt_quantities`.\n",
    "---\n",
    "2. [`atom_type.py`](https://github.com/mosdef-hub/gmso/blob/3ff3829cb4bc492b41e5e520d26d35c09c5338a4/gmso/core/atom_type.py): Defines the class `gmso.core.atom_type.AtomType` which inherits from `gmso.core.parametric_potential.ParametricPotential` to describe properties for an `AtomType`.   \n",
    "---\n",
    "3. [`bond_type.py`](https://github.com/mosdef-hub/gmso/blob/3ff3829cb4bc492b41e5e520d26d35c09c5338a4/gmso/core/bond_type.py): Defines the class `gmso.core.bond_type.BondType` which inherits from `gmso.core.parametric_potential.ParametricPotential` to describe properties for a `BondType`.\n",
    "---\n",
    "4. [`angle_type.py`](https://github.com/mosdef-hub/gmso/blob/3ff3829cb4bc492b41e5e520d26d35c09c5338a4/gmso/core/angle_type.py): Defines the class `gmso.core.angle_type.AngleType` which inherits from `gmso.core.parametric_potential.ParametricPotential` to describe properties for an `AngleType`.\n",
    "---\n",
    "5. [`dihedral_type.py`](https://github.com/mosdef-hub/gmso/blob/3ff3829cb4bc492b41e5e520d26d35c09c5338a4/gmso/core/dihedral_type.py) and [`improper_type.py`](https://github.com/mosdef-hub/gmso/blob/3ff3829cb4bc492b41e5e520d26d35c09c5338a4/gmso/core/atom_type.py): Defines the classes `gmso.core.atom_type.DihedralType` and `gmso.core.improper_type.ImproperType` which inherit from `gmso.core.parametric_potential.ParametricPotential` which describe properties for a `DihedralType` and `ImproperType` respectively."
   ]
  },
  {
   "cell_type": "code",
   "execution_count": null,
   "id": "447ec859",
   "metadata": {},
   "outputs": [],
   "source": [
    "from gmso.core.parametric_potential import ParametricPotential\n",
    "\n",
    "# Handle potential expression using separate Expression class\n",
    "new_potential = ParametricPotential(\n",
    "            name='mypotential',\n",
    "            expression='a*x+b',\n",
    "            parameters={\n",
    "                'a': 1.0*u.g,\n",
    "                'b': 1.0*u.m\n",
    "            },\n",
    "            independent_variables={'x'}\n",
    ")\n",
    "\n",
    "try:\n",
    "    new_potential.independent_variables = 'y'\n",
    "except ValueError as e:\n",
    "    print(e)"
   ]
  },
  {
   "cell_type": "markdown",
   "id": "5c43f0e7",
   "metadata": {},
   "source": [
    "### Topology Building\n",
    "Example of manually building a methane topology. These methods are mostly leveraged in the loaders when converting data from a given format to a `gmso.Topology`. We can also see the utility that lets **angles, dihedrals, and impropers to be identified** from bonds in the system"
   ]
  },
  {
   "cell_type": "code",
   "execution_count": null,
   "id": "f0cbb9f4",
   "metadata": {},
   "outputs": [],
   "source": [
    "from gmso import Topology, Atom, Bond\n",
    "methane_top = Topology(name=\"methane\") #initial topology instance\n",
    "c = Atom(name='c')\n",
    "h1 = Atom(name='h1')\n",
    "h2 = Atom(name='h2')\n",
    "h3 = Atom(name='h3')\n",
    "h4 = Atom(name='h4')\n",
    "ch1 = Bond(connection_members=[c,h1])\n",
    "ch2 = Bond(connection_members=[c,h2])\n",
    "ch3 = Bond(connection_members=[c,h3])\n",
    "ch4 = Bond(connection_members=[c,h4])\n",
    "methane_top.add_site(c, update_types=False)\n",
    "methane_top.add_site(h1, update_types=False)\n",
    "methane_top.add_site(h2, update_types=False)\n",
    "methane_top.add_site(h3, update_types=False)\n",
    "methane_top.add_site(h4, update_types=False)\n",
    "methane_top.add_connection(ch1, update_types=False)\n",
    "methane_top.add_connection(ch2, update_types=False)\n",
    "methane_top.add_connection(ch3, update_types=False)\n",
    "methane_top.add_connection(ch4, update_types=False)\n",
    "\n",
    "# You can now infer angles, dihedrals and impropers from bonds\n",
    "print(f\"Topology {methane_top.name} has {methane_top.n_angles} angles\")   # No angles now\n",
    "methane_top.identify_connections() # Uses networkx to identify connections using subgraph isomorphism\n",
    "print(f\"Topology {methane_top.name} now has {methane_top.n_angles} angles\") "
   ]
  },
  {
   "cell_type": "markdown",
   "id": "5394005c",
   "metadata": {},
   "source": [
    "## Handling Potential Parameters and Units in GMSO\n",
    "----\n",
    "\n",
    "Potential expression and parameters represent the functional form of any bonded or non bonded potential in GMSO. At its core, any Potential class (inheriting from `gmso.abstract_potential.AbstractPotential`) is a container for two entities:\n",
    "\n",
    "1. The expression for the Potential\n",
    "2. The parameters (i.e. non-free variables) in the Potential expression and their values\n",
    "\n",
    "We delegate the handling of potential expression, the variables and their values in GMSO to a utility class called `PotentialExpression`, which keeps track of the changes to the independent variables and expression of a potential expression."
   ]
  },
  {
   "cell_type": "code",
   "execution_count": null,
   "id": "658d17e3",
   "metadata": {},
   "outputs": [],
   "source": [
    "from gmso.utils.expression import PotentialExpression\n",
    "\n",
    "expression = PotentialExpression(\n",
    "    expression='x*b+c',\n",
    "    independent_variables={'c'}\n",
    ")\n",
    "\n",
    "print(expression.is_parametric)\n",
    "try:\n",
    "    expression.independent_variables = 'd' # Will throw an error\n",
    "except ValueError as e:\n",
    "    print(e)"
   ]
  },
  {
   "cell_type": "markdown",
   "id": "31f4d0c6",
   "metadata": {},
   "source": [
    "As shown above, we can use the `PotentialTemplateLibrary` to parametrize any potential we want. All the parameters are maintained as `unyt_arrays` which makes them easier to work with in any unit system. An example of creating a Potential from `LennardJonesPotential` template is shown below:"
   ]
  },
  {
   "cell_type": "code",
   "execution_count": null,
   "id": "952a10d9",
   "metadata": {},
   "outputs": [],
   "source": [
    "import unyt as u\n",
    "from gmso.core.parametric_potential import ParametricPotential\n",
    "from gmso.lib.potential_templates import PotentialTemplateLibrary\n",
    "pt_lib = PotentialTemplateLibrary()\n",
    "pt_lib.get_available_template_names()"
   ]
  },
  {
   "cell_type": "code",
   "execution_count": null,
   "id": "5d3abc2f",
   "metadata": {},
   "outputs": [],
   "source": [
    "# Look at the expression and variables for the SymPy expression.\n",
    "display(pt_lib['LennardJonesPotential'].expression, pt_lib['LennardJonesPotential'].independent_variables)"
   ]
  },
  {
   "cell_type": "code",
   "execution_count": null,
   "id": "0f507627",
   "metadata": {},
   "outputs": [],
   "source": [
    "# Create a parameterized potential which can be tagged to a topology\n",
    "lj_parametrized = ParametricPotential.from_template(\n",
    "    potential_template=pt_lib['LennardJonesPotential'],\n",
    "    parameters={\n",
    "        'sigma' : 1.0 * u.nm,\n",
    "        'epsilon': 1.0 * u.kJ / u.mol\n",
    "    }\n",
    ")\n",
    "\n",
    "display( # Easily check and validate the values for your variables\n",
    "    lj_parametrized.expression, \n",
    "    pt_lib['LennardJonesPotential'].independent_variables, \n",
    "    lj_parametrized.parameters\n",
    ")"
   ]
  },
  {
   "cell_type": "markdown",
   "id": "714a8b65",
   "metadata": {},
   "source": [
    "## Viewing unique types in Topology\n",
    "--------\n",
    "In order to facilitate writing to files, quickly filtering through typed objects in the topology is essential. However, there can be many different definitions of \"unique\", so GMSO has leveraged `gmso.core.view.TopologyPotentialViews` for filtering through all typed objects in the system."
   ]
  },
  {
   "cell_type": "code",
   "execution_count": null,
   "id": "f635485a",
   "metadata": {},
   "outputs": [],
   "source": [
    "# List of premade ways to filter through potential lists\n",
    "from gmso.core.views import PotentialFilters\n",
    "PotentialFilters.all() #These can easily be added to for further filterint"
   ]
  },
  {
   "cell_type": "code",
   "execution_count": null,
   "id": "05475b70",
   "metadata": {},
   "outputs": [],
   "source": [
    "from gmso import Topology\n",
    "\n",
    "topology = Topology.load(\"gmso_files/ethanes.json\")\n",
    "msg = lambda x,y: print(f\"There are {x} unique types using method {y}.\")\n",
    "msg(len(topology.atom_types),1) # Total number of atomtypes\n",
    "msg(len(topology.atom_types(filter_by=PotentialFilters.UNIQUE_NAME_CLASS)),2) # Sites with different names\n",
    "msg(len(topology.atom_types(filter_by=PotentialFilters.UNIQUE_EXPRESSION)),3) # Sites with different expressions\n",
    "msg(len(topology.bond_types(filter_by=PotentialFilters.UNIQUE_PARAMETERS)),4) # Bonds with different parameters"
   ]
  },
  {
   "cell_type": "markdown",
   "id": "09dfaa4f",
   "metadata": {},
   "source": [
    "## Coming to GMSO\n",
    "----\n",
    "`GMSO` still is being improved. Most notable, the writers in `gmso.formats` still need to be filled out to support the many complex ways those files can be written. Leveraging these building blocks will make that process possible. Improvements for GMSO are as follows:\n",
    "\n",
    "1. Add support for new engines and extend features to write out different formats in existing engines. This includes complex potential forms including table styles, unit conversions, and support for converting between compatible potential forms.\n",
    "</br> </br>\n",
    "2. Loading pre-parameterized topologies, and mapping those parameters to extended forms of that topology. For example, this may look something like creating a long protein object from already parameterized residues.\n",
    "</br></br>\n",
    "3. The ability to modify ForceField files with additional parameters, and keep track of these changes through automated hashing that can be passed to utilities to check for the list of differences between two forcefields. This will be notably useful for large forcefields, such as the OPLS-AA found in Foyer.\n",
    "</br></br>\n",
    "4. The ability to generate SMARTS identifiers for local chemical environments to facilitate the adding of these parameters."
   ]
  },
  {
   "cell_type": "code",
   "execution_count": null,
   "id": "4bd1f72f",
   "metadata": {},
   "outputs": [],
   "source": []
  }
 ],
 "metadata": {
  "kernelspec": {
   "display_name": "Python 3",
   "language": "python",
   "name": "python3"
  },
  "language_info": {
   "codemirror_mode": {
    "name": "ipython",
    "version": 3
   },
   "file_extension": ".py",
   "mimetype": "text/x-python",
   "name": "python",
   "nbconvert_exporter": "python",
   "pygments_lexer": "ipython3",
   "version": "3.9.13"
  }
 },
 "nbformat": 4,
 "nbformat_minor": 5
}
