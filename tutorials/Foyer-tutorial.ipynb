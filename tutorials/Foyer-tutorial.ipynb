{
 "cells": [
  {
   "cell_type": "markdown",
   "metadata": {},
   "source": [
    "# Basic Foyer tutorial\n",
    "\n",
    "### _Foyer is a tool for atomtyping molecular systems._\n",
    "\n",
    "The second of the MoSDeF tools we will explore is the [Foyer package](https://github.com/mosdef-hub/foyer).  \n",
    "\n",
    "<p align=\"center\">\n",
    "    <img src=\"../graphics/foyer-mosdef.svg\", alt=\"GMSO within the MoSDeF Ecosystem\" width=\"500\" height=\"500\"/>\n",
    "</p>\n",
    "\n",
    "Foyer can be used to take a molecular model featuring particle positions and bonds (such as an mBuild Compound) and automatically parameterize the system, as directed by a user-specified force field.\n",
    "\n",
    "The Foyer software itself is designed to be force field agnostic:\n",
    "* allows Foyer to work with  different force fields without the need to change the software itself (e.g., TraPPE, OPLS, IFF) \n",
    "* parameters and their usage rules are encoded in an XML file that is read and evaluated by the Foyer code\n",
    "\n",
    "By encoding parameters and their usage rules in separate XML files, it makes it easier to:\n",
    "* disseminate force fields\n",
    "* modify existing force fields\n",
    "* track history using version control\n",
    "* tag/cite specific versions used in research/publications \n",
    "* the XML file format is both human and machine readable\n",
    "\n",
    "\n",
    "Because these files are separate from the code itself, it is easy to make custom force field files for specific applications that deviate from the \"canonical\" force fields, while ensuring that such modifications are clearly captured and can be used by others. It also makes it easier to application/molecule specific force fields that are easier to validate and extended. \n",
    "\n",
    "\n",
    "In this tutorial, we'll demonstrate how Foyer works by using it to perform atom-typing and parameterization of several different molecules.\n",
    "\n",
    "-------"
   ]
  },
  {
   "cell_type": "markdown",
   "metadata": {},
   "source": [
    "## Classical Force Fields\n",
    "\n",
    "Classical force fields, which describe the interaction between atoms, typically contain numerous fitting parameters (e.g., Lennard-Jones sigma and epsilon, partial charge), allowing them to be tuned to describe the behavior of atoms in various chemical environments (i.e., `chemical context`).  \n",
    "\n",
    "For example, consider carbon in various local bonded environments of the following, along with their fitting parameters for OPLS (units, epsilon: kJ/mol, sigma: nm, charge: multiple of electron charge): \n",
    "\n",
    "- #### A terminal methyl group in an alkane, i.e., C-CH3\n",
    "    * opls_135\n",
    "    * charge=-0.18\n",
    "    * sigma=0.35 \n",
    "    * epsilon=0.276144\n",
    "- #### A terminal fluorinated methyl group, i.e., C-CF3\n",
    "    * opls_961\n",
    "    * charge=0.36\n",
    "    * sigma=0.35  \n",
    "    * epsilon=0.276144\n",
    "- #### As a terminal group in an alkene, i.e., C=CH2\n",
    "    * opls_143\n",
    "    * charge=-0.23\n",
    "    * sigma=0.355\n",
    "    * epsilon=0.317984\n",
    "\n",
    "Even though the element does not change (i.e., we are dealing with carbon in each case), the force field fitting parameters are different for OPLS (and would be for many other common force fields).  As such, force field databases may contain 10s or 100s of parameters for a given element, where each unique set of parameters is referred to as an 'atom-type'; i.e., defining the element in a different `chemical context`.\n",
    "\n",
    "Properly determining the correct set of parameters for a given element (i.e., identifying which atom-type should be used), can be a difficult and error-prone task, but essential for the final results of a simulation to be correct.   \n",
    "\n",
    "Foyer has been developed as both a scheme to encode these rules for atom-typing along with a software that evaluates these rules. Here we will first focus on the scheme to encode rules and the associated file format. \n",
    "\n",
    "-------"
   ]
  },
  {
   "cell_type": "markdown",
   "metadata": {},
   "source": [
    "## Foyer XML format\n",
    "\n",
    "Foyer forcefields are defined within an XML file that contains both the 'rules' required for atomtyping as well as the forcefield parameters within a single file. \n",
    "\n",
    "The Foyer XML format is an extension of the [OpenMM forcefield XML format](http://docs.openmm.org/latest/userguide/application/05_creating_ffs.html).  The only differences reside in the `AtomTypes` section, where several additional attributes are available for each `Type`.  \n",
    "\n",
    "Let's take a look at the basic structure of a Foyer XML file."
   ]
  },
  {
   "cell_type": "markdown",
   "metadata": {},
   "source": [
    "### AtomTypes"
   ]
  },
  {
   "cell_type": "code",
   "execution_count": null,
   "metadata": {},
   "outputs": [],
   "source": [
    "! sed -n 2,18p xml_files/OPLSaa_alkanes.xml"
   ]
  },
  {
   "cell_type": "markdown",
   "metadata": {},
   "source": [
    "The `AtomTypes` section of the Foyer XML is similar to that used for OpenMM forcefield XMLs; however, each `Type` in Foyer XML supports four additional attributes not found in OpenMM:\n",
    "* `def` - SMARTS string describing the chemical substructure of this atomtype (Follow [this link](https://github.com/mosdef-hub/foyer/issues/63) for more info on SMARTS-based atomtyping in Foyer, i.e., what parts of the language are supported)\n",
    "* `desc` - Brief textual description of the atom type\n",
    "* `doi` - DOI reference for parameters associated with this atom type (if available)\n",
    "* `overrides` - One or more atom types to 'override'l; this defines rule precedence\n",
    "\n",
    "Atom types are defined using [SMARTS](http://www.daylight.com/dayhtml/doc/theory/theory.smarts.html), which provide a language for describing chemical structures and substructures."
   ]
  },
  {
   "cell_type": "markdown",
   "metadata": {},
   "source": [
    "### Forcefield parameters\n",
    "\n",
    "The remaining sections of the Foyer XML are currently the same as defined in the OpenMM format and feature both bonded and nonbonded forcefield parameters."
   ]
  },
  {
   "cell_type": "code",
   "execution_count": null,
   "metadata": {},
   "outputs": [],
   "source": [
    "! sed -n 19,42p xml_files/oplsaa_alkanes.xml"
   ]
  },
  {
   "cell_type": "markdown",
   "metadata": {},
   "source": [
    "-------\n",
    "\n",
    "## Defining [SMARTS](https://www.daylight.com/dayhtml/doc/theory/theory.smarts.html)\n",
    "\n",
    "Let us consider what each of the SMARTS strings defined in the file tells us:\n",
    "\n",
    "`opls_135`, SMARTS string, `def=\"[C;X4](H)(H)H\"`\n",
    "- The element is carbon, with 4 neighbors, i.e., `[C;X4]`\n",
    "- At least 3 of those neighbors are hydrogens, i.e., `(H)(H)H`\n",
    "\n",
    "`opls_138`,  SMARTS string, `def=\"[C;X4](H)(H)(H)H\"`\n",
    "- The element is carbon, with 4 neighbors, i.e., `[C;X4]`\n",
    "- 4 of those neighbors are hydrogens, i.e., `(H)(H)(H)H`\n",
    "\n",
    "`opls_136`,  SMARTS string, `def=\"[C;X4](H)H\"`\n",
    "- The element is carbon, with 4 neighbors, i.e., `[C;X4]`\n",
    "- At least 2 of those neighbors are hydrogens, i.e., `(H)H`\n",
    "\n",
    "`opls_140`,  SMARTS string, `def=\"H[C;X4]\"`\n",
    "- The element is hydrogen, i.e., `H`\n",
    "- When that hydrogen is connected to a carbon that has 4 neighbors, i.e., `[C;X4]`\n",
    "    * note, SMARTS allows us to encode chemical context information about our neighbors as well (i.e., encoding more than just our first neighbor shell)\n"
   ]
  },
  {
   "cell_type": "markdown",
   "metadata": {},
   "source": [
    "## Atomtyping using SMARTS\n",
    "Let us now consider using these rules to atom-type the carbon in methane (i.e., `[C;X4](H)(H)(H)H`), using the following rules (reproduced from the xml/oplsaa_alkanes.xml file):\n",
    "\n",
    "```\n",
    "    <AtomTypes>\n",
    "        <Type name=\"opls_135\" def=\"[C;X4](H)(H)H\"\n",
    "              class=\"CT\" element=\"C\" mass=\"12.01100\" desc=\"alkane CH3\"\n",
    "              doi=\"10.1021/ja9621760\" overrides=\"opls_136\"/>\n",
    "\n",
    "        <Type name=\"opls_136\" def=\"[C;X4](H)H\"\n",
    "              class=\"CT\" element=\"C\" mass=\"12.01100\" desc=\"alkane CH2\"\n",
    "              doi=\"10.1021/ja9621760\"/>\n",
    "\n",
    "        <Type name=\"opls_138\" def=\"[C;X4](H)(H)(H)H\"\n",
    "              class=\"CT\" element=\"C\" mass=\"12.01100\" desc=\"alkane CH4\"\n",
    "              doi=\"10.1021/ja9621760\" overrides=\"opls_135,opls_136\"/>\n",
    "\n",
    "        <Type name=\"opls_140\" def=\"H[C;X4]\"\n",
    "              class=\"HC\" element=\"H\" mass=\"1.00800\" desc=\"alkane H\"\n",
    "              doi=\"10.1021/ja9621760\"/>\n",
    "    </AtomTypes>\n",
    "    \n",
    "```\n",
    "\n",
    "- `opls_138` would obviously evaluate to `True`, as it is defined for a carbon, with 4 hydrogen neighbors. \n",
    "- `opls_135` and `opls_136` would also evaulate to `True`.  \n",
    "    * In the case of `opls_135`, our definition only states that at least 3 of the neighbors are hydrogen, and have not made any specific claims about the identity of the 4th neighbor.\n",
    "    * Similarly, for opls_136, we have only stated that 2 neighbors must be hydrogen and not specified the identity of the other 2 neighbors. \n",
    "\n",
    "## If 3 out of 4 rules evaluated to `True`...which one do we use?  \n",
    "* We will discuss two ways to address this in Foyer. \n",
    "\n",
    "\n",
    "\n",
    "#### Notes: \n",
    "* Foyer will evaluate all the rules in a forcefield file, rather than just stopping at the first rule that evaluates to `True`\n",
    "    * This allows rules to be defined in any order\n",
    "* Foyer iterates over the rules (iterating until no changes our found)\n",
    "    * This allows recursive definitions of usage, i.e., referring to specific atom-types in the SMARTS string, as will be discussed later \n",
    "\n",
    "\n",
    "\n",
    "\n",
    "\n",
    "### `overrides`  \n",
    "`overrides` provide a means to dictate rule precedence (i.e., which rules are more specific than others).  \n",
    "\n",
    "In the force field file above, `opls_138` has defined: `overrides=\"opls_135,opls_136\"`:  \n",
    " * That is, if `opls_138` evaluates to `True`, then it takes precedence over `opls_135` and `opls_136`, even if they evaluate to `True`. \n",
    "\n",
    "Similarly, if opls_135 evaluates to `True`, it `overrides=\"opls_136\"`, because opls_135 is more specific, thus taking precedence. \n",
    "\n",
    "### More specific SMARTS definitions\n",
    "\n",
    "\n",
    "#### Recursive definitions \n",
    "`overrides` are especially useful if the chemical context of two different atom-types are effectively the same.  E.g., the terminal methyl group in an alkane has the same first neighbor environment as the methyl group in toluene, however the parameters (and thus atom-type) are different. \n",
    "\n",
    "Thus `overrides` can be used to state that if the more specific toluene rule evaluates to `True` it should take precedences over the more general alkane rule. Also note that in the SMARTS for toluene, we use a recursive definition.  That is, we use an atom-type name in addition to the element, i.e., `[C;X4](C;%opls_145)(H)(H)H`.  This states that the carbon we are connected to must be opls_145 to evaluate to true.  We can use these recursive definitions because atom-typing is performed as an iterative process in Foyer. Obviously, if we use recursive definitions for all of our SMARTS, we will not be able to atom-type.  \n",
    "\n",
    "<img src=\"../graphics/ch3-toluene.png\" alt=\"toluene\" style=\"width: 700px;\"/>\n",
    "\n",
    "\n",
    "#### Longer range patterns\n",
    "In many cases, recursive definitions can be avoided by providing more specific SMARTS strings.  For example, we could instead take note of the fact that opls_145 only has 3 connections:\n",
    "\n",
    "`[C;X4](C;X3)(H)(H)H`\n",
    "\n",
    "We could also state the identify of those connections if necessary (or even define then entire opls_145 SMARTS pattern, `[C;X3;r6]1[C;X3;r6][C;X3;r6][C;X3;r6][C;X3;r6][C;X3;r6]1`), although the larger definitions may begine to be less clear. \n",
    "\n",
    "Often times more specific definitions can remove the need to define `overrides`.  For example, the rules for `opls_135`, `opls_136`, and `opls_138` above can be made more specific by stating the identify of the other neighbors and thus eliminate the need for `overrides`, as shown below.  It is important to note that some force fields are designed such to have \"generic\" parameters that we would default to if more specific cases are not available. \n",
    "\n",
    "```\n",
    "<AtomTypes>\n",
    "        <Type name=\"opls_135\" def=\"[C;X4](H)(H)(H)C\"\n",
    "              class=\"CT\" element=\"C\" mass=\"12.01100\" desc=\"alkane CH3\"\n",
    "              doi=\"10.1021/ja9621760\"/>\n",
    "\n",
    "        <Type name=\"opls_136\" def=\"[C;X4](H)(H)(C)C\"\n",
    "              class=\"CT\" element=\"C\" mass=\"12.01100\" desc=\"alkane CH2\"\n",
    "              doi=\"10.1021/ja9621760\"/>\n",
    "\n",
    "        <Type name=\"opls_138\" def=\"[C;X4](H)(H)(H)H\"\n",
    "              class=\"CT\" element=\"C\" mass=\"12.01100\" desc=\"alkane CH4\"\n",
    "              doi=\"10.1021/ja9621760\"/>\n",
    "\n",
    "        <Type name=\"opls_140\" def=\"H[C;X4]\"\n",
    "              class=\"HC\" element=\"H\" mass=\"1.00800\" desc=\"alkane H\"\n",
    "              doi=\"10.1021/ja9621760\"/>\n",
    "    </AtomTypes>\n",
    "\n",
    "```"
   ]
  },
  {
   "cell_type": "markdown",
   "metadata": {},
   "source": [
    "### Applying a force field to atomtype a system\n",
    "With a force field file defined, we will apply it to an alkane system.  Here, we will use the routines from mBuild  to construct a propane molecule, then perform atom-typing as part of saving our configuration to a lammps data file. "
   ]
  },
  {
   "cell_type": "code",
   "execution_count": null,
   "metadata": {},
   "outputs": [],
   "source": [
    "import foyer \n",
    "from foyer import Forcefield\n",
    "\n",
    "import mbuild as mb\n",
    "\n",
    "compound = mb.load(\"CCC\", smiles=True)\n",
    "compound.visualize()"
   ]
  },
  {
   "cell_type": "markdown",
   "metadata": {},
   "source": [
    "Let us save to gromacs formatted top file and then examine the output.  To do this, we will call the save operator on the compound, passing the force field information.  "
   ]
  },
  {
   "cell_type": "code",
   "execution_count": null,
   "metadata": {},
   "outputs": [],
   "source": [
    "compound.save('test.top', forcefield_files=\"xml_files/oplsaa_alkanes.xml\", overwrite=True)\n",
    "\n",
    "!cat test.top "
   ]
  },
  {
   "cell_type": "markdown",
   "metadata": {},
   "source": [
    "We can examine the save function using help to find out more."
   ]
  },
  {
   "cell_type": "code",
   "execution_count": null,
   "metadata": {},
   "outputs": [],
   "source": [
    "help(mb.Compound.save)"
   ]
  },
  {
   "cell_type": "markdown",
   "metadata": {},
   "source": [
    "Note, we can also use a different syntax to perform atom-typing that does not explicitly rely upon mbuild.\n",
    "\n",
    "Below, we can load the force field file, and use the apply command, passing to it, in this case, the mbuild compound although this will also support a parmed structure object. \n",
    "\n",
    "In the current, non-GMSO version of Foyer, the apply command will return a ParmEd topology; as such, writing to a file will be limited to the writers that are part of ParmEd (e.g., gromacs, openmm, etc.) and not provide access to those that are part of mbuild (e.g, lammps, hoomd, etc.).  The save command in mbuild provides access to both sets. Since this example writes a GROMACS file, we should have no issues."
   ]
  },
  {
   "cell_type": "code",
   "execution_count": null,
   "metadata": {},
   "outputs": [],
   "source": [
    "oplsaa_alkane = foyer.Forcefield(\"xml_files/oplsaa_alkanes.xml\")\n",
    "typed = oplsaa_alkane.apply(compound)\n",
    "typed.save('test2.top', overwrite=True)\n"
   ]
  },
  {
   "cell_type": "code",
   "execution_count": null,
   "metadata": {},
   "outputs": [],
   "source": [
    "!cat test2.top"
   ]
  },
  {
   "cell_type": "markdown",
   "metadata": {},
   "source": [
    "### GMSO enabled Foyer\n",
    "\n",
    "Foyer has been undergoing development to support GMSO. Interaction with foyer is very similar to the prior example,  where we load in a Foyer forcefield into GMSO. This can be applied to a structure very similarly, using the `gmso.parameterization` suite of tools. This also allows you to load individual forcefields and apply the to seperate substructures of the topology. See the tutorial labeled **tutorials/GMSO-tutorial.ipynb** for more information."
   ]
  },
  {
   "cell_type": "markdown",
   "metadata": {},
   "source": [
    "## SMARTS for Non-Atomistic Systems\n"
   ]
  },
  {
   "cell_type": "markdown",
   "metadata": {},
   "source": [
    "Thus far, all of our tutorials for mBuild and Foyer have focused on fully atomistic systems, however, MoSDeF is not limited to such systems. \n",
    "\n",
    "First, we will demonstrate how to construct a generic coarse-grained polymer system using mBuild, then demonstrate how to define an associated forcefield file.\n",
    "\n",
    "As done previous in the mBuild tutorials, we will create `Compounds` to describe repeat units in our polymer. Here we will create two `Compounds`, one to describe the central beads (`_A`) and one for the terminal groups (`_B`).\n",
    "\n",
    "Note, to properly handle non-atomistic types, Foyer expects names to be prefaced by an underscore (e.g., `_A`,`_B`, `_CH2`, etc. )."
   ]
  },
  {
   "cell_type": "code",
   "execution_count": null,
   "metadata": {},
   "outputs": [],
   "source": [
    "polymer.add_monomer?"
   ]
  },
  {
   "cell_type": "code",
   "execution_count": null,
   "metadata": {},
   "outputs": [],
   "source": [
    "class CentralBead(mb.Compound):\n",
    "    def __init__(self):\n",
    "        super(CentralBead, self).__init__()\n",
    "        \n",
    "        bead = mb.Particle(pos=[0.0, 0.0, 0.0], name='_A')\n",
    "        self.add(bead)\n",
    "        up_port = mb.Port(anchor=bead, orientation=[0, 1, 0], separation=0.05)\n",
    "        down_port = mb.Port(anchor=bead, orientation=[0, -1, 0], separation=0.05)\n",
    "        self.add(up_port, label='up')\n",
    "        self.add(down_port, label='down')\n",
    "        \n",
    "class TerminalBead(mb.Compound):\n",
    "    def __init__(self):\n",
    "        super(TerminalBead, self).__init__()\n",
    "        \n",
    "        bead = mb.Particle(pos=[0.0, 0.0, 0.0], name='_B')\n",
    "        self.add(bead)\n",
    "\n",
    "        cap_port = mb.Port(anchor=bead, orientation=[0, 1, 0], separation=0.05)\n",
    "        self.add(cap_port, label='cap')\n",
    "\n",
    "class CGPolymer(mb.Compound):\n",
    "    def __init__(self, chain_length):\n",
    "        super(CGPolymer, self).__init__()\n",
    "        \n",
    "        terminal_bead = TerminalBead()\n",
    "        last_unit = CentralBead()\n",
    "        mb.force_overlap(move_this=terminal_bead,\n",
    "                         from_positions=terminal_bead['cap'],\n",
    "                         to_positions=last_unit['up'])\n",
    "        self.add(last_unit, label='_A[$]')\n",
    "        self.add(terminal_bead, label='up-cap')   \n",
    "        for _ in range(chain_length - 3):\n",
    "            current_unit = CentralBead()\n",
    "            mb.force_overlap(move_this=current_unit,\n",
    "                             from_positions=current_unit['up'],\n",
    "                             to_positions=last_unit['down'])\n",
    "            self.add(current_unit, label='_A[$]')\n",
    "            last_unit=current_unit\n",
    "        terminal_bead = TerminalBead()\n",
    "        mb.force_overlap(move_this=terminal_bead,\n",
    "                         from_positions=terminal_bead['cap'],\n",
    "                         to_positions=last_unit['down'])\n",
    "        self.add(terminal_bead, label='down-cap')\n",
    "        if chain_length < 3:\n",
    "            print(\"Note, the shortest chain this function will make is 3\")\n",
    "cg_polymer = CGPolymer(chain_length=6)\n",
    "cg_polymer.visualize(color_scheme={'_A': 'blue', '_B': 'red'})\n"
   ]
  },
  {
   "cell_type": "markdown",
   "metadata": {},
   "source": [
    "With a simple mBuild code to create CG polymers, let us examine how to define a forcefield file.\n",
    "\n",
    "In this forcefield, we will assume all particles have the same bonds, angles, and Lennard-Jones sigma, regardless of type, however, we will modify Lennard-Jones epsilon based on chemical context. \n",
    "\n",
    "Here we will define the forcefield such that:\n",
    "- when bead `_A` has 2 bonded neighbors of type `_A`, epsilon = 1.0 \n",
    " - atom-type: `cg_A_AA`\n",
    " - SMARTS definition: `[_A;X2](_A)(_A)`\n",
    "- when bead `_A` has 1 bonded neighbor of type `_A` and one of type `_B`, epsilon = 1.25 \n",
    " - atom-type `cg_A_AB`\n",
    " - SMARTS definition: `[_A;X2](_A)(_B)`\n",
    "- when bead `_A` has 2 bonded neighbors of type `_B`  epsilon = 1.5\n",
    " - atom-type `cg_A_BB`\n",
    " - SMARTS definition: `[_A;X2](_B)(_B)`\n",
    "- when bead `_B` has any neighbor, epsilon = 2.0 regardless of who it is bonded \n",
    " - `atom-type cg_B`\n",
    " - SMARTS definition: `[_B;X1]`\n",
    "\n",
    "The xml forcefield file is shown below:"
   ]
  },
  {
   "cell_type": "code",
   "execution_count": null,
   "metadata": {},
   "outputs": [],
   "source": [
    "cat xml_files/CG_polymer.xml\n"
   ]
  },
  {
   "cell_type": "markdown",
   "metadata": {},
   "source": [
    "Let us now atomtype the system.  We will save this to the hoomd xml file format, as it provides a very clear format for viewing the parameterized system.  Note, this format is now deprecated, in place of gsd, which MoSDeF also supports.\n",
    "\n",
    "\n",
    "Note, because this system does not include dihedral parameters, we must set the argument `assert_dihedral_params` to `False`.  If we did not set this, the code would produce an error stating there are undefined dihedrals.  We now only get warnings instead of an error.   Similar flags can be set for bonds and angles."
   ]
  },
  {
   "cell_type": "code",
   "execution_count": null,
   "metadata": {},
   "outputs": [],
   "source": [
    "cg_polymer.save(\"cg.hoomdxml\", forcefield_files=\"xml_files/CG_polymer.xml\", overwrite=True, \n",
    "                foyer_kwargs={\"assert_dihedral_params\":False})\n",
    "\n",
    "cg_polymer.save(\"cg.gsd\", forcefield_files=\"xml_files/CG_polymer.xml\", overwrite=True, \n",
    "                foyer_kwargs={\"assert_dihedral_params\":False})"
   ]
  },
  {
   "cell_type": "code",
   "execution_count": null,
   "metadata": {},
   "outputs": [],
   "source": [
    "!cat cg.hoomdxml"
   ]
  },
  {
   "cell_type": "markdown",
   "metadata": {},
   "source": [
    "### Saving a reference file. \n",
    "To keep track of which parameters were used, we can optionally output a reference file, by passing the `references_file` flag. \n",
    "\n",
    "This will produce a BibTeX formatted file containing the references for the parameters used for parameterization of this `Compound` (assuming DOIs have been provided). This fetches the citation information associated with the DOI and in the `note` section lists the atom type names that came from this source.\n",
    "\n",
    "Here, we explore this functionality by loading a simple methane molecule into an mBuild `Compound` and save using the forcefield we've just defined."
   ]
  },
  {
   "cell_type": "code",
   "execution_count": null,
   "metadata": {},
   "outputs": [],
   "source": [
    "import mbuild as mb\n",
    "\n",
    "ch4 = mb.load(\"C\", smiles=True)\n",
    "ch4.save(\"CH4.top\",\n",
    "         forcefield_files='xml_files/oplsaa_alkanes.xml',\n",
    "         foyer_kwargs={\"references_file\":\"ch4.bib\"},\n",
    "         overwrite=True)\n"
   ]
  },
  {
   "cell_type": "code",
   "execution_count": null,
   "metadata": {},
   "outputs": [],
   "source": [
    "! cat ch4.bib "
   ]
  },
  {
   "cell_type": "markdown",
   "metadata": {},
   "source": [
    "## Quick-start\n",
    "\n",
    "If you are interested in defining your existing forcefield(s) in the Foyer XML format, we currently have a forcefield template hosted on Github to help you get started - https://github.com/mosdef-hub/forcefield_template, that includes some basic scripts for validation and error checking. We also refer interested users to the [OpenMM documentation](http://docs.openmm.org/7.0.0/userguide/application.html#creating-force-fields) for detailed instructions on forcefield creation."
   ]
  },
  {
   "cell_type": "code",
   "execution_count": null,
   "metadata": {},
   "outputs": [],
   "source": []
  }
 ],
 "metadata": {
  "kernelspec": {
   "display_name": "Python 3 (ipykernel)",
   "language": "python",
   "name": "python3"
  },
  "language_info": {
   "codemirror_mode": {
    "name": "ipython",
    "version": 3
   },
   "file_extension": ".py",
   "mimetype": "text/x-python",
   "name": "python",
   "nbconvert_exporter": "python",
   "pygments_lexer": "ipython3",
   "version": "3.9.13"
  }
 },
 "nbformat": 4,
 "nbformat_minor": 2
}
