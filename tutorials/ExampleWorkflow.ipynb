{
 "cells": [
  {
   "cell_type": "code",
   "execution_count": null,
   "id": "eca036fc",
   "metadata": {},
   "outputs": [],
   "source": [
    "import mbuild as mb\n",
    "import foyer\n",
    "import unyt as u"
   ]
  },
  {
   "cell_type": "markdown",
   "id": "a13ca68d",
   "metadata": {},
   "source": [
    "# Prepare recipes with mBuild - UA polymer\n",
    "\n",
    "\n",
    "We will be creating a united atom polymer (i.e., no-hydrogen atoms) that we will atom-type with using the TraPPE force field.  \n",
    "\n",
    "To create this polymer we need two different interaction sites, one corresponding to CH3 (terminal interaction sites) and one corresponding to CH2 (middle interactions sites). \n",
    "\n",
    "Let us first examine the code to create a CH3 site:"
   ]
  },
  {
   "cell_type": "code",
   "execution_count": null,
   "id": "d21ef559",
   "metadata": {},
   "outputs": [],
   "source": [
    "class _CH3(mb.Compound):\n",
    "    def __init__(self):\n",
    "        super().__init__()\n",
    "        self.name = \"_CH3\"\n",
    "        \n",
    "        \"\"\"Create a particle name _CH3 and add it to self.\"\"\"\n",
    "        _ch3 = mb.Compound(pos=[0.0, 0.0, 0.0], name='_CH3')\n",
    "        self.add(_ch3)\n",
    "     \n",
    "        \"\"\"Create a port attached to the _CH3 particles, label as 'up'.\n",
    "        Use the separation value of the _CH2's ports as above.\n",
    "        \"\"\"\n",
    "        port_up = mb.Port(anchor=_ch3, orientation=[0, 1, 0], separation=0.07)\n",
    "        self.add(port_up, \"up\")         "
   ]
  },
  {
   "cell_type": "markdown",
   "id": "fea02ccb",
   "metadata": {},
   "source": [
    "Create a temporary instance of the `_CH3` compound and visualize it.  Note we tell the visualizer to render the ports so we can check to provide visual confirmation that we have done things properly."
   ]
  },
  {
   "cell_type": "code",
   "execution_count": null,
   "id": "fb4a559b",
   "metadata": {},
   "outputs": [],
   "source": [
    "temp_compound = _CH3()\n",
    "temp_compound.visualize(backend='nglview', show_ports=True)"
   ]
  },
  {
   "cell_type": "markdown",
   "id": "6e3f0ae5",
   "metadata": {},
   "source": [
    "### Exercise 1 - Create your the CH2 building block\n",
    "\n",
    "Using the `_CH3` class above as an example, fill in the code block below to create a CH2 with two ports diametrically opposed."
   ]
  },
  {
   "cell_type": "code",
   "execution_count": null,
   "id": "eb8a8779",
   "metadata": {},
   "outputs": [],
   "source": [
    "class _CH2(mb.Compound):\n",
    "    def __init__(self):\n",
    "        super().__init__()\n",
    "        self.name = \"_CH2\"\n",
    "        \"\"\"Create a particle name _CH2 and add it to self.\"\"\"\n",
    "        # Enter your code here\n",
    "\n",
    "        \n",
    "        \"\"\"Create a port attached to the _CH2 particles, label as 'up'.\"\"\"\n",
    "        # Enter your code here\n",
    "\n",
    "\n",
    "        \n",
    "        \n",
    "        \"\"\"Create a port attached to the _CH2 particles, label as 'down',\n",
    "        with same separation but opposite orientation as 'up port'\n",
    "        \"\"\"\n",
    "        # Enter your code here\n",
    "\n",
    "\n",
    "        "
   ]
  },
  {
   "cell_type": "code",
   "execution_count": null,
   "id": "3af5ded5",
   "metadata": {},
   "outputs": [],
   "source": [
    "# instantiate a temporary instance of _CH2 and visualize it showing the ports \n",
    "\n"
   ]
  },
  {
   "cell_type": "markdown",
   "id": "072aace2",
   "metadata": {},
   "source": [
    "### Exercise 2a - Create the \"recipe\" "
   ]
  },
  {
   "cell_type": "code",
   "execution_count": null,
   "id": "199105d1",
   "metadata": {},
   "outputs": [],
   "source": [
    "class CG_Alkane(mb.Compound):\n",
    "    def __init__(self, n):\n",
    "        super().__init__()\n",
    "        self.name = \"CG_Alkane\"\n",
    "    \n",
    "        if n == 1: \n",
    "            \"\"\"Create a _CH4 bead and add it to self.\"\"\"\n",
    "            _ch4 = mb.Compound(pos=[0.0, 0.0, 0.0], name='_CH4')\n",
    "            self.add(_ch4)\n",
    "\n",
    "        elif n == 2:\n",
    "            \"\"\"Create 2 _CH3 beads and bonds them together, then add both to self.\"\"\"\n",
    "            _ch3a = _CH3()\n",
    "            self.add(_ch3a, \"_CH3_a\")\n",
    "            \n",
    "            \"\"\"Create the other _CH3 bead.\"\"\"\n",
    "            _ch3b = _CH3()\n",
    "            self.add(_ch3b, \"_CH3_b\")\n",
    "            \n",
    "            \"\"\"Force overlap ports of the two _CH3 beads we just created\"\"\"\n",
    "            mb.force_overlap(move_this=_ch3b, \n",
    "                             from_positions=_ch3b['up'],\n",
    "                             to_positions=_ch3a['up'])\n",
    "        else:\n",
    "            \"\"\" Create a _CH3 particle and add it to self with label 'link0'\"\"\"\n",
    "            # this will keep track of particle id as we add it to the system\n",
    "            pid = 0\n",
    "            _ch3top =_CH3()\n",
    "            self.add(_ch3top, f\"link{pid}\")\n",
    "\n",
    "\n",
    "            for i in range(n - 2):\n",
    "                \"\"\" Create a _CH2 particle and add it to self with label f'link{pid}'.\n",
    "                Then force_overlap it (from Port \"down\") with \n",
    "                the previous link (to Port \"up\").\n",
    "                \"\"\"\n",
    "                _ch2 = _CH2()\n",
    "                self.add(_ch2, f\"link{pid+1}\")\n",
    "                \n",
    "                \"\"\"Force overlap the 'down' port of the _ch2 we just created\n",
    "                to 'up' port of the last link of the alkane.\n",
    "                \"\"\"\n",
    "                # Enter your code\n",
    "                mb.force_overlap(move_this=,\n",
    "                                 from_positions=, \n",
    "                                 to_positions=self[f\"link{pid}\"][\"up\"])\n",
    "                \n",
    "                #iterate the pid\n",
    "                pid = pid+1             \n",
    "\n",
    "\n",
    "            \"\"\" Create another _CH3 particle and add it to self with label f'link{i+2}.\n",
    "            Then force_overlap it with the previous link f\"link{i+1}\" (note that .\n",
    "            \"\"\"\n",
    "            _ch3bot =_CH3()\n",
    "            self.add(_ch3bot, f\"link{pid+1}\")\n",
    "\n",
    "            # Enter your code here\n",
    "            mb.force_overlap(move_this=,\n",
    "                 from_positions=, \n",
    "                 to_positions=  )\n"
   ]
  },
  {
   "cell_type": "code",
   "execution_count": null,
   "id": "a55d4cfa",
   "metadata": {},
   "outputs": [],
   "source": [
    "test = CG_Alkane(n=5)\n",
    "test.visualize()"
   ]
  },
  {
   "cell_type": "markdown",
   "id": "455fed4d",
   "metadata": {},
   "source": [
    "### Exercise 2b - A shortcut with built-in Polymer builder"
   ]
  },
  {
   "cell_type": "code",
   "execution_count": null,
   "id": "58ff4db4",
   "metadata": {},
   "outputs": [],
   "source": [
    "from mbuild.lib.recipes import Polymer\n",
    "\n",
    "\"\"\"Create a Polymer() object with _CH2 monomer\"\"\"\n",
    "temp_polymer = Polymer(monomers=[_CH2()] )\n",
    "\"\"\"Build the just-created object with length 2\"\"\"\n",
    "temp_polymer.build(n=2)\n"
   ]
  },
  {
   "cell_type": "code",
   "execution_count": null,
   "id": "988f85dc",
   "metadata": {},
   "outputs": [],
   "source": [
    "temp_polymer.visualize(backend=\"nglview\", show_ports=True)"
   ]
  },
  {
   "cell_type": "markdown",
   "id": "b836e6f8",
   "metadata": {},
   "source": [
    "In this example, we do not have the `_CH3` groups capping the ends of the polymer.  To include these these capping groups, you can pass the Polymer class a list of two capping Compounds.  \n",
    "\n",
    "### Use the help function to see the syntax, and modify the code above to include the `_CH3` capping groups and revisualize."
   ]
  },
  {
   "cell_type": "code",
   "execution_count": null,
   "id": "6c523811",
   "metadata": {},
   "outputs": [],
   "source": [
    "help(Polymer)"
   ]
  },
  {
   "cell_type": "markdown",
   "id": "fb221b54",
   "metadata": {},
   "source": [
    "### Exercise 3 - Create a box of pentane\n",
    "\n",
    "Next, we will fill a box with pentane molecules.  \n",
    "\n",
    "To do this we will create an instance of the polymer class, define a box, and then call the fill_box routine that uses PackMol. \n",
    "\n",
    "#### Hint: try call help(mb.packing.fill_box) to see the syntax to use"
   ]
  },
  {
   "cell_type": "code",
   "execution_count": null,
   "id": "655bf9e4",
   "metadata": {},
   "outputs": [],
   "source": [
    "help(mb.packing.fill_box)"
   ]
  },
  {
   "cell_type": "code",
   "execution_count": null,
   "id": "5ea0c08a",
   "metadata": {},
   "outputs": [],
   "source": [
    "\"\"\"Create a pentane using the CG_Alkane recipe above.\"\"\"\n",
    "# Enter your code here\n",
    "n_pentane = CG_Alkane(n=5)\n",
    "\n",
    "\"\"\"Create a box of pentane using the mb.packing.fill_box() method.\n",
    "Let's fill the box of size [4, 4, 4] with a edge padding of 0.2, i.e., edge=0.2 \n",
    "with 150 compounds.\"\"\"\n",
    "\n",
    "box = mb.Box(lengths=[4,4,4])\n",
    "\n",
    "# Hint: try call help(mb.packing.fill_box) in a separate cell\n",
    "# Enter your code here\n",
    "pentane_box = mb.packing.fill_box()\n"
   ]
  },
  {
   "cell_type": "markdown",
   "id": "b032055b",
   "metadata": {},
   "source": [
    "# Atomtyping and Parameterization with Foyer\n",
    "### Exercise 4 - Loading the forcefield and perform atomtyping\n",
    "\n",
    "Here we will load the trapp-ua forcefield and apply it to the box of pentane we just initialized above."
   ]
  },
  {
   "cell_type": "code",
   "execution_count": null,
   "id": "ffb99f1b",
   "metadata": {
    "scrolled": true
   },
   "outputs": [],
   "source": [
    "import foyer \n",
    "from foyer import Forcefield\n",
    "\n",
    "\"\"\"Load the TRAPPE-UA forcefield (name=\"trappe-ua\")\"\"\"\n",
    "trappe = foyer.Forcefield(name=\"trappe-ua\")\n",
    "\n",
    "\"\"\"Use foyer to apply forcefields to a pentane and a box of pentane\"\"\"\n",
    "structure = trappe.apply(pentane_box)\n"
   ]
  },
  {
   "cell_type": "code",
   "execution_count": null,
   "id": "78163152",
   "metadata": {},
   "outputs": [],
   "source": [
    "help(trappe.apply)"
   ]
  },
  {
   "cell_type": "markdown",
   "id": "b296ff3e",
   "metadata": {},
   "source": [
    "# Run Simulations\n",
    "### Exercise 5a - Simulation with GROMACS"
   ]
  },
  {
   "cell_type": "markdown",
   "id": "044add24",
   "metadata": {},
   "source": [
    "#### Saving the atom-typed structure to file\n",
    "We have now created the various MDP files for gromacs.  We still need to write out our atom-typed system to the correspdonding GROMACS format."
   ]
  },
  {
   "cell_type": "code",
   "execution_count": null,
   "id": "044095fb",
   "metadata": {},
   "outputs": [],
   "source": [
    "structure.save(\"gmx_sim/init.top\", overwrite=True)\n",
    "structure.save(\"gmx_sim/init.gro\", overwrite=True)"
   ]
  },
  {
   "cell_type": "markdown",
   "id": "c0ff358c",
   "metadata": {},
   "source": [
    "#### Running GROMACS \n",
    "Note this is just a short run to demonstrate that it works; simulation data associated with a longer run is included for visualization later."
   ]
  },
  {
   "cell_type": "code",
   "execution_count": null,
   "id": "7097b1a4",
   "metadata": {},
   "outputs": [],
   "source": [
    "%cd gmx_sim\n",
    "!gmx grompp -f em.mdp -o em.tpr -c init.gro -p init.top --maxwarn 1\n",
    "!gmx mdrun -v -deffnm em -s em.tpr -cpi em.cpt\n",
    "\n",
    "!gmx grompp -f nvt.mdp -o nvt.tpr -c em.gro -p init.top --maxwarn 1\n",
    "!gmx mdrun -v -deffnm nvt -s nvt.tpr -cpi nvt.cpt\n",
    "\n",
    "!gmx grompp -f npt.mdp -o npt.tpr -c nvt.gro -p init.top --maxwarn 1\n",
    "!gmx mdrun -v -deffnm npt -s npt.tpr -cpi npt.cpt\n",
    "%cd .."
   ]
  },
  {
   "cell_type": "markdown",
   "id": "8f1b1451",
   "metadata": {},
   "source": [
    "### Exercise 5b - Simulation with HOOMD-Blue"
   ]
  },
  {
   "cell_type": "code",
   "execution_count": null,
   "id": "72a6ff55",
   "metadata": {},
   "outputs": [],
   "source": [
    "from mbuild.formats.hoomd_forcefield import create_hoomd_forcefield\n",
    "import hoomd \n",
    "\n",
    "# ref_distance: 10 angstrom -> 1 nm\n",
    "# ref_energy: 1/4.184 kcal/mol -> 1 kJ/mol\n",
    "# ref_mass: 0.9999938574 dalton -> 1 amu\n",
    "d = 10\n",
    "e = 1 / 4.184\n",
    "m = 0.9999938574\n",
    "\n",
    "\"\"\"Converting a typed structure to hoomd forcefield and snapshot\"\"\"\n",
    "snapshot, forcefield, ref_vals = create_hoomd_forcefield(\n",
    "    structure,\n",
    "    ref_distance=d,\n",
    "    ref_energy=e,\n",
    "    ref_mass=m,\n",
    "    r_cut=1,\n",
    "    init_snap=None,\n",
    "    pppm_kwargs={\"Nx\": 64, \"Ny\": 64, \"Nz\": 64, \"order\": 7},\n",
    ")\n",
    "\n",
    "for force in forcefield:\n",
    "    if isinstance(force, hoomd.md.pair.LJ):\n",
    "        force.tail_correction = True\n",
    "        \n",
    "forcefield[0].nlist.exclusions = [\"bond\", \"1-3\", \"1-4\"]\n",
    "\n",
    "\"\"\"Starting up the system and adding in operations and loggers\"\"\"\n",
    "device = hoomd.device.auto_select()\n",
    "sim = hoomd.Simulation(device=device)\n",
    "sim.create_state_from_snapshot(snapshot)\n",
    "\n",
    "gsd_writer = hoomd.write.GSD(\n",
    "    filename=f\"hoomd_sim/trajectory.gsd\",\n",
    "    trigger=hoomd.trigger.Periodic(10000),\n",
    "    mode=\"wb\",\n",
    "    dynamic=[\"momentum\"],\n",
    ")\n",
    "sim.operations.writers.append(gsd_writer)\n",
    "\n",
    "logger = hoomd.logging.Logger(categories=[\"scalar\", \"string\"])\n",
    "logger.add(sim, quantities=[\"timestep\", \"tps\"])\n",
    "thermo_props = hoomd.md.compute.ThermodynamicQuantities(filter=hoomd.filter.All())\n",
    "sim.operations.computes.append(thermo_props)\n",
    "logger.add(\n",
    "    thermo_props,\n",
    "    quantities=[\n",
    "        \"kinetic_energy\",\n",
    "        \"potential_energy\",\n",
    "        \"pressure\",\n",
    "        \"kinetic_temperature\",\n",
    "        \"volume\",\n",
    "    ],\n",
    ")\n",
    "\n",
    "table_file = hoomd.write.Table(\n",
    "    output=open(\n",
    "        \"hoomd_sim/log.txt\", mode=\"w\", newline=\"\\n\"\n",
    "    ),\n",
    "    trigger=hoomd.trigger.Periodic(period=1000),\n",
    "    logger=logger,\n",
    "    max_header_len=7,\n",
    ")\n",
    "sim.operations.writers.append(table_file)\n",
    "\n",
    "\"\"\"Create integrators and add them to the simulation context, sequentially\"\"\"\n",
    "dt = 0.001\n",
    "integrator = hoomd.md.Integrator(dt=dt)\n",
    "integrator.forces = forcefield\n",
    "\n",
    "kT = (372 * u.K).to_equivalent(\"kJ/mol\", \"thermal\").value\n",
    "\n",
    "tau = 100 * dt \n",
    "tauS = 1000 * dt \n",
    "\n",
    "pressure = (14.02 * u.kPa).to(\"kJ/(mol*nm**3)\").value\n",
    "\n",
    "\"\"\"Run NVT\"\"\"\n",
    "nvt_steps = 1e6\n",
    "\n",
    "nvt_method = hoomd.md.methods.NVT(filter=hoomd.filter.All(),\n",
    "                                         kT=kT,\n",
    "                                         tau=tau)\n",
    "\n",
    "integrator.methods = [nvt_method]\n",
    "\n",
    "sim.operations.integrator = integrator\n",
    "sim.state.thermalize_particle_momenta(filter=hoomd.filter.All(), \n",
    "                                      kT=kT)\n",
    "\n",
    "sim.run(nvt_steps)\n",
    "\n",
    "\"\"\"Run NPT\"\"\"\n",
    "npt_steps = 1e6\n",
    "npt_method = hoomd.md.methods.NPT(filter=hoomd.filter.All(),\n",
    "                                 kT=kT, \n",
    "                                 tau=tau,\n",
    "                                 S=pressure,\n",
    "                                 tauS=tauS,\n",
    "                                 couple=\"xyz\")\n",
    "integrator.methods = [npt_method]\n",
    "sim.run(1e6)"
   ]
  },
  {
   "cell_type": "markdown",
   "id": "8883e886",
   "metadata": {},
   "source": [
    "### Exercise 6a - Data analysis of GROMACS simulation"
   ]
  },
  {
   "cell_type": "code",
   "execution_count": null,
   "id": "32547d12",
   "metadata": {},
   "outputs": [],
   "source": [
    "\"\"\"If you used GROMACS\"\"\"\n",
    "import numpy as np\n",
    "import pylab as plt \n",
    "\n",
    "import panedr\n",
    "from panedr import edr_to_df\n",
    "\n",
    "\"\"\"In the interest of time, loading in pre-simulated data\"\"\"\n",
    "data = edr_to_df(\"../master_notebooks/example_workflow/gmx_sim/npt.edr\")\n",
    "\n",
    "plt.rcParams['font.family'] = \"DIN Alternate\"\n",
    "font = {'family' : 'DIN Alternate',\n",
    "        'weight' : 'normal',\n",
    "        'size'   : 12}\n",
    "\n",
    "fig, ax = plt.subplots(1, 1)\n",
    "\n",
    "ax.spines[\"bottom\"].set_linewidth(3)\n",
    "ax.spines[\"left\"].set_linewidth(3)\n",
    "ax.spines[\"right\"].set_linewidth(3)\n",
    "ax.spines[\"top\"].set_linewidth(3)\n",
    "\n",
    "ax.title.set_text('Control plot')\n",
    "ax.set_xlabel(r\"MD Step\")\n",
    "ax.set_ylabel('Density $(kg / m{^3})$')\n",
    "ax.yaxis.tick_left()\n",
    "ax.yaxis.set_label_position('left')\n",
    "ax.axhline(y=541, color='r', linestyle='-', label='~TraPPE-UA Density')\n",
    "\n",
    "dt, density = list(), list()\n",
    "for i, j in enumerate(data[\"Density\"]):\n",
    "    dt.append(i)\n",
    "    density.append(j)\n",
    "    \n",
    "ax.plot(dt, density, \"-\", color='lightgray', label='Density')\n",
    "ax.legend(loc=\"best\")\n",
    "plt.show()"
   ]
  },
  {
   "cell_type": "markdown",
   "id": "206bd720",
   "metadata": {},
   "source": [
    "### Exercise 6b - Data analysis of HOOMD-Blue simulation\n"
   ]
  },
  {
   "cell_type": "code",
   "execution_count": null,
   "id": "fe277e05",
   "metadata": {},
   "outputs": [],
   "source": [
    "import numpy as np\n",
    "import pylab as plt \n",
    "\n",
    "\"\"\"In the interest of time, loading in pre-simulated data\"\"\"\n",
    "data = np.genfromtxt(\"../master_notebooks/example_workflow/hoomd_sim/log.txt\", names=True)\n",
    "system_mass = 72.15 * u.amu * 150 \n",
    "volume = data[\"volume\"] * u.nm**3 \n",
    "\n",
    "density = (system_mass / volume).to(\"kg/m**3\")\n",
    "plt.rcParams['font.family'] = \"DIN Alternate\"\n",
    "font = {'family' : 'DIN Alternate',\n",
    "        'weight' : 'normal',\n",
    "        'size'   : 12}\n",
    "\n",
    "fig, ax = plt.subplots(1, 1)\n",
    "\n",
    "ax.spines[\"bottom\"].set_linewidth(3)\n",
    "ax.spines[\"left\"].set_linewidth(3)\n",
    "ax.spines[\"right\"].set_linewidth(3)\n",
    "ax.spines[\"top\"].set_linewidth(3)\n",
    "\n",
    "ax.title.set_text('Control plot')\n",
    "ax.set_xlabel(r\"MD Step\")\n",
    "ax.set_ylabel('Density $(kg / m{^3})$')\n",
    "ax.yaxis.tick_left()\n",
    "ax.yaxis.set_label_position('left')\n",
    "ax.axhline(y=541, color='r', linestyle='-', label='~TraPPE-UA Density')\n",
    "\n",
    "    \n",
    "ax.plot(data[\"timestep\"][1000:], density[1000:], \"-\", color='lightgray', label='Density')\n",
    "ax.legend(loc=\"best\")\n",
    "plt.show()"
   ]
  }
 ],
 "metadata": {
  "kernelspec": {
   "display_name": "Python 3 (ipykernel)",
   "language": "python",
   "name": "python3"
  },
  "language_info": {
   "codemirror_mode": {
    "name": "ipython",
    "version": 3
   },
   "file_extension": ".py",
   "mimetype": "text/x-python",
   "name": "python",
   "nbconvert_exporter": "python",
   "pygments_lexer": "ipython3",
   "version": "3.9.13"
  }
 },
 "nbformat": 4,
 "nbformat_minor": 5
}
