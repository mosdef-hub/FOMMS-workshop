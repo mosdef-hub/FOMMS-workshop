{
  "cells": [
    {
      "cell_type": "markdown",
      "id": "566541ad-7ce8-44b9-bb0d-60af88d8f919",
      "metadata": {
        "id": "566541ad-7ce8-44b9-bb0d-60af88d8f919"
      },
      "source": [
        "# Coarse Graining with flowerMD"
      ]
    },
    {
      "cell_type": "markdown",
      "id": "347f758b-4eba-4475-a8a2-c4faa9302ca7",
      "metadata": {
        "id": "347f758b-4eba-4475-a8a2-c4faa9302ca7"
      },
      "source": [
        "## Overview:"
      ]
    },
    {
      "cell_type": "markdown",
      "id": "04612189-c919-4f2d-b8db-985203ad3583",
      "metadata": {
        "id": "04612189-c919-4f2d-b8db-985203ad3583"
      },
      "source": [
        "Coarse graining in molecular dynamics (MD) simplifies complex systems by grouping atoms or molecules into beads, enhancing computational efficiency and enabling simulations on extended time scales.\n",
        "\n",
        "The flowerMD package is designed in a way that simplifies the execution of MD simulations for coarse-grained systems. This is achieved by incorporating built-in functionalities that can transform an all-atom system into coarse-grained beads and define the force interactions between these beads, all with minimal user-side coding effort.\n",
        "\n",
        "In this tutorial, we will go through the steps required to convert an all-atom strucutre to a coarse grained one and initialize a simulation for the modified system."
      ]
    },
    {
      "cell_type": "code",
      "source": [
        "!pip install -q condacolab\n",
        "import condacolab\n",
        "condacolab.install()"
      ],
      "metadata": {
        "id": "2tjGrjg4rcKh"
      },
      "id": "2tjGrjg4rcKh",
      "execution_count": null,
      "outputs": []
    },
    {
      "cell_type": "code",
      "source": [
        "!mamba install flowermd"
      ],
      "metadata": {
        "id": "NKXKcwyRrcCQ"
      },
      "id": "NKXKcwyRrcCQ",
      "execution_count": null,
      "outputs": []
    },
    {
      "cell_type": "code",
      "execution_count": null,
      "id": "dfc57afe-613e-4693-bdae-5fa6e386dab6",
      "metadata": {
        "id": "dfc57afe-613e-4693-bdae-5fa6e386dab6"
      },
      "outputs": [],
      "source": [
        "import warnings\n",
        "warnings.filterwarnings('ignore')"
      ]
    },
    {
      "cell_type": "code",
      "execution_count": null,
      "id": "1534fecf-23ac-4a1c-a363-12dab01bc580",
      "metadata": {
        "id": "1534fecf-23ac-4a1c-a363-12dab01bc580"
      },
      "outputs": [],
      "source": [
        "from flowermd.base import Pack, Simulation\n",
        "from flowermd.library import PPS, BeadSpring"
      ]
    },
    {
      "cell_type": "markdown",
      "id": "d0ad75a1-5e23-4178-a015-53e21f4da049",
      "metadata": {
        "id": "d0ad75a1-5e23-4178-a015-53e21f4da049"
      },
      "source": [
        "### Step 1: Coarse graining an all-atom molecule"
      ]
    },
    {
      "cell_type": "markdown",
      "id": "7b295b2d-1e15-4f06-8872-793444f483ef",
      "metadata": {
        "id": "7b295b2d-1e15-4f06-8872-793444f483ef"
      },
      "source": [
        "First, we initialize 300 atomistic PPS polymers and use the coarse graining method in `Molecule` to group atoms in one PPS molecule into a single bead."
      ]
    },
    {
      "cell_type": "code",
      "execution_count": null,
      "id": "8d207810-39c4-43a6-8878-4bdc706e5d98",
      "metadata": {
        "id": "8d207810-39c4-43a6-8878-4bdc706e5d98"
      },
      "outputs": [],
      "source": [
        "pps_mol = PPS(num_mols=150, lengths=12)"
      ]
    },
    {
      "cell_type": "markdown",
      "id": "c2dfeb61-67ee-4f05-8435-f71730896588",
      "metadata": {
        "id": "c2dfeb61-67ee-4f05-8435-f71730896588"
      },
      "source": [
        "First, let's examine the atomistic visualization of one of the PPS chains."
      ]
    },
    {
      "cell_type": "code",
      "execution_count": null,
      "id": "4977d374-cb97-42aa-a8c7-b4716af0cd18",
      "metadata": {
        "id": "4977d374-cb97-42aa-a8c7-b4716af0cd18"
      },
      "outputs": [],
      "source": [
        "pps_mol.molecules[0].visualize()"
      ]
    },
    {
      "cell_type": "markdown",
      "id": "3e37be4b-939f-4e9c-b563-fd713550397b",
      "metadata": {
        "id": "3e37be4b-939f-4e9c-b563-fd713550397b"
      },
      "source": [
        "The `coarse_grain` method invokes the `GRiTS` coarse graining toolkit in the background. The `GRiTS` package, when provided with the SMILES notations of the beads, scans the atomic structure and automatically substitutes groups of atoms that match the SMILES pattern with a respective beads.\n",
        "\n",
        "In our PPS example, the `beads` parameter consists of a dictionary mapping arbitrary bead names (for example, here we named the bead \"A\") to their corresponding SMILES strings. Note that a strucuture can be coarse grained into multiple types of beads. Please see the example at the end of this tutorial for clarrification."
      ]
    },
    {
      "cell_type": "code",
      "execution_count": null,
      "id": "5dfd6222-4b98-4ebe-9559-1811ba4cc571",
      "metadata": {
        "id": "5dfd6222-4b98-4ebe-9559-1811ba4cc571"
      },
      "outputs": [],
      "source": [
        "pps_mol.coarse_grain(beads={\"A\": \"c1ccc(S)cc1\"})"
      ]
    },
    {
      "cell_type": "markdown",
      "id": "3c742406-ff75-4198-82b1-0906200b144b",
      "metadata": {
        "id": "3c742406-ff75-4198-82b1-0906200b144b"
      },
      "source": [
        "**Important note regarding `coarse_grain`**: The coarse-grain method performs in-place alterations, resulting in the transformation of `pps_mol` from an all-atom structure to one where all particles are substituted with corresponding coarse-grained beads"
      ]
    },
    {
      "cell_type": "markdown",
      "id": "9114d176-51fe-4a91-9832-2aedae3c1802",
      "metadata": {
        "id": "9114d176-51fe-4a91-9832-2aedae3c1802"
      },
      "source": [
        "As you can see in the visualization below, all the individual monomers have been substituted with \"A\" beads"
      ]
    },
    {
      "cell_type": "code",
      "execution_count": null,
      "id": "5820f788-2697-4b65-ae2c-897648f3ccd2",
      "metadata": {
        "id": "5820f788-2697-4b65-ae2c-897648f3ccd2"
      },
      "outputs": [],
      "source": [
        "pps_mol.molecules[0].visualize(show_atomistic=False)"
      ]
    },
    {
      "cell_type": "markdown",
      "id": "22969bd3-8029-47bc-a8be-fc083b77c67c",
      "metadata": {
        "id": "22969bd3-8029-47bc-a8be-fc083b77c67c"
      },
      "source": [
        "We can visualize both the original atomistic structure and the new coarse-grained molecule."
      ]
    },
    {
      "cell_type": "code",
      "execution_count": null,
      "id": "986059d5-ad32-4326-badf-4bced2611f64",
      "metadata": {
        "id": "986059d5-ad32-4326-badf-4bced2611f64"
      },
      "outputs": [],
      "source": [
        "pps_mol.molecules[0].visualize(show_atomistic=True)"
      ]
    },
    {
      "cell_type": "markdown",
      "id": "19e7406c-5ba9-4a60-9e7d-3c53c996e6ce",
      "metadata": {
        "id": "19e7406c-5ba9-4a60-9e7d-3c53c996e6ce"
      },
      "source": [
        "### Step 2: Define forces"
      ]
    },
    {
      "cell_type": "markdown",
      "id": "7ecafabb-62f1-47dc-88b5-6a9fe09292a8",
      "metadata": {
        "id": "7ecafabb-62f1-47dc-88b5-6a9fe09292a8"
      },
      "source": [
        "To define the bonded and non-bonded interactions among the coarse beads, we utiize the `BeadSpring` class from the flowerMD libraray. This class generates a list of HOOMD force objects representing the Lennard-Jones (LJ) forces for the non-bonded interactions and harmonic bond forces, harmonic angle forces and periodic dihedral forces for the bonded interactions.\n",
        "\n",
        "For each of these forces, specific parameters must be provided. Fpr instance, the LJ force requires `epsilon` and `sigma` parameters.\n",
        "Please check [`HOOMD-Blue` documentation](https://hoomd-blue.readthedocs.io/en/stable/module-md-bond.html) for detailed information about the parameters required for [harmonic bonds](https://hoomd-blue.readthedocs.io/en/v4.1.0/module-md-bond.html), [harmonic angles](https://hoomd-blue.readthedocs.io/en/stable/module-md-angle.html) and [periodic rdihedrals](https://hoomd-blue.readthedocs.io/en/stable/module-md-dihedral.html).  "
      ]
    },
    {
      "cell_type": "markdown",
      "id": "ce992ef1-4c4b-4663-9dd4-914e4fd2e83a",
      "metadata": {
        "id": "ce992ef1-4c4b-4663-9dd4-914e4fd2e83a"
      },
      "source": [
        "It's worth noting that the `BeadSpring` class serves as an illustrative example, generating forces based on commonly used force types. However, users have the flexibility to implement their own methods or classes to generate HOOMD force objects tailored to their specific requirements."
      ]
    },
    {
      "cell_type": "code",
      "execution_count": null,
      "id": "4001b77d-b864-4ec8-a54a-d3022e31b431",
      "metadata": {
        "id": "4001b77d-b864-4ec8-a54a-d3022e31b431"
      },
      "outputs": [],
      "source": [
        "ff = BeadSpring(\n",
        "    r_cut=2.5,\n",
        "    beads={\n",
        "        \"A\": dict(epsilon=1, sigma=0.2),\n",
        "    },\n",
        "    bonds={\n",
        "        \"A-A\": dict(r0=0.64, k=500),\n",
        "    },\n",
        "    angles={\"A-A-A\": dict(t0=2.8, k=50)},\n",
        ")"
      ]
    },
    {
      "cell_type": "code",
      "execution_count": null,
      "id": "80c9aea7-10ed-433e-880d-69c6b8e4723e",
      "metadata": {
        "id": "80c9aea7-10ed-433e-880d-69c6b8e4723e"
      },
      "outputs": [],
      "source": [
        "ff.hoomd_forces"
      ]
    },
    {
      "cell_type": "markdown",
      "id": "efa1192f-e43f-4011-861e-281b89665072",
      "metadata": {
        "id": "efa1192f-e43f-4011-861e-281b89665072"
      },
      "source": [
        "### Step 3: Create the system"
      ]
    },
    {
      "cell_type": "markdown",
      "id": "a6c3c575-1f66-4527-8f93-27a3f48fd416",
      "metadata": {
        "id": "a6c3c575-1f66-4527-8f93-27a3f48fd416"
      },
      "source": [
        "Using the `Pack` class, we pack a box of coarse grained chains. Note that, since the list of HOOMD force objects for the system has already been defined, there is no requirement to pass the `forcefield` parameter when configuring the system."
      ]
    },
    {
      "cell_type": "code",
      "execution_count": null,
      "id": "2446bbd4-1c3f-41b6-9b78-1b1252d76699",
      "metadata": {
        "id": "2446bbd4-1c3f-41b6-9b78-1b1252d76699"
      },
      "outputs": [],
      "source": [
        "cg_system = Pack(molecules=pps_mol, density=0.5, edge=2, overlap=2)"
      ]
    },
    {
      "cell_type": "code",
      "execution_count": null,
      "id": "ad2374d7-443b-4e3f-b184-d740fdfbb172",
      "metadata": {
        "id": "ad2374d7-443b-4e3f-b184-d740fdfbb172"
      },
      "outputs": [],
      "source": [
        "cg_system.system.visualize()"
      ]
    },
    {
      "cell_type": "markdown",
      "id": "19971147-ebb5-4904-a5e8-57f1a50a8876",
      "metadata": {
        "id": "19971147-ebb5-4904-a5e8-57f1a50a8876"
      },
      "source": [
        "### Step 4: Start the simulation"
      ]
    },
    {
      "cell_type": "markdown",
      "id": "65066489-f1d3-4008-97f9-560f8e75862c",
      "metadata": {
        "id": "65066489-f1d3-4008-97f9-560f8e75862c"
      },
      "source": [
        "Similar to initializing an atomisitc simulation, we pass in the `hoomd_snapshot` generated by the system along with the force objects generated by the `BeadSpring` class to start a simulation."
      ]
    },
    {
      "cell_type": "code",
      "execution_count": null,
      "id": "d903bc9b-55d5-41a1-aea7-a745be2b3025",
      "metadata": {
        "id": "d903bc9b-55d5-41a1-aea7-a745be2b3025"
      },
      "outputs": [],
      "source": [
        "cg_sim = Simulation(initial_state=cg_system.hoomd_snapshot, forcefield=ff.hoomd_forces, gsd_write_freq=int(2e5/10))"
      ]
    },
    {
      "cell_type": "code",
      "execution_count": null,
      "id": "48ad9618-ee2e-4bff-a170-27491dd16922",
      "metadata": {
        "id": "48ad9618-ee2e-4bff-a170-27491dd16922"
      },
      "outputs": [],
      "source": [
        "cg_system.hoomd_snapshot.particles.types"
      ]
    },
    {
      "cell_type": "code",
      "execution_count": null,
      "id": "d739db63-10ab-4b92-9241-f2da68485988",
      "metadata": {
        "id": "d739db63-10ab-4b92-9241-f2da68485988"
      },
      "outputs": [],
      "source": [
        "cg_sim.run_NVT(n_steps=2e5, kT=3.0, tau_kt=1.0)"
      ]
    },
    {
      "cell_type": "code",
      "execution_count": null,
      "id": "4d51cf2d-4643-4e59-b92c-da891a23bf0a",
      "metadata": {
        "id": "4d51cf2d-4643-4e59-b92c-da891a23bf0a"
      },
      "outputs": [],
      "source": [
        "cg_sim.flush_writers()"
      ]
    },
    {
      "cell_type": "code",
      "execution_count": null,
      "id": "8ace1a8d-5391-41e7-9d52-a751c89fd0db",
      "metadata": {
        "id": "8ace1a8d-5391-41e7-9d52-a751c89fd0db"
      },
      "outputs": [],
      "source": [
        "from cmeutils.visualize import FresnelGSD\n",
        "\n",
        "sim_visualizer = FresnelGSD(gsd_file=\"trajectory.gsd\", frame=-1, view_axis=(1, 1, 1))\n",
        "sim_visualizer.view()"
      ]
    },
    {
      "cell_type": "code",
      "execution_count": null,
      "id": "fda6aa17-ed54-4ec6-9464-0fbf3f405644",
      "metadata": {
        "id": "fda6aa17-ed54-4ec6-9464-0fbf3f405644"
      },
      "outputs": [],
      "source": [
        "sim_visualizer.height = 20"
      ]
    },
    {
      "cell_type": "code",
      "execution_count": null,
      "id": "3d0fc580-1a15-4d15-aa08-be51faba4a14",
      "metadata": {
        "id": "3d0fc580-1a15-4d15-aa08-be51faba4a14"
      },
      "outputs": [],
      "source": [
        "sim_visualizer.view()"
      ]
    },
    {
      "cell_type": "code",
      "execution_count": null,
      "id": "493a5090-0d59-4e14-a1cb-2e95f27e6c96",
      "metadata": {
        "id": "493a5090-0d59-4e14-a1cb-2e95f27e6c96"
      },
      "outputs": [],
      "source": []
    }
  ],
  "metadata": {
    "kernelspec": {
      "display_name": "Python 3 (ipykernel)",
      "language": "python",
      "name": "python3"
    },
    "language_info": {
      "codemirror_mode": {
        "name": "ipython",
        "version": 3
      },
      "file_extension": ".py",
      "mimetype": "text/x-python",
      "name": "python",
      "nbconvert_exporter": "python",
      "pygments_lexer": "ipython3",
      "version": "3.11.0"
    },
    "colab": {
      "provenance": []
    }
  },
  "nbformat": 4,
  "nbformat_minor": 5
}